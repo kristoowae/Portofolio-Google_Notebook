{
  "nbformat": 4,
  "nbformat_minor": 0,
  "metadata": {
    "colab": {
      "provenance": [],
      "toc_visible": true,
      "authorship_tag": "ABX9TyO85TDwyncttFRPueSzYk1v",
      "include_colab_link": true
    },
    "kernelspec": {
      "name": "python3",
      "display_name": "Python 3"
    },
    "language_info": {
      "name": "python"
    }
  },
  "cells": [
    {
      "cell_type": "markdown",
      "metadata": {
        "id": "view-in-github",
        "colab_type": "text"
      },
      "source": [
        "<a href=\"https://colab.research.google.com/github/kristoowae/Portofolio-Google_Notebook/blob/main/UjiHipotesis.ipynb\" target=\"_parent\"><img src=\"https://colab.research.google.com/assets/colab-badge.svg\" alt=\"Open In Colab\"/></a>"
      ]
    },
    {
      "cell_type": "markdown",
      "source": [
        "# Library"
      ],
      "metadata": {
        "id": "FkSdeIaYLxrm"
      }
    },
    {
      "cell_type": "code",
      "execution_count": 1,
      "metadata": {
        "id": "Cio_AjaWLtd0"
      },
      "outputs": [],
      "source": [
        "import numpy as np #library untuk matematika\n",
        "import pandas as pd #library untuk dataframe\n",
        "import seaborn as sns #library untuk visualisasi\n",
        "import matplotlib.pyplot as plt"
      ]
    },
    {
      "cell_type": "markdown",
      "source": [
        "# One sample T-test\n",
        "\n",
        "Digunakan untuk membandingkan hasil dari eksperimen yang tidak memiliki benchmark sebelumnya"
      ],
      "metadata": {
        "id": "t31TSQ8ML2vC"
      }
    },
    {
      "cell_type": "markdown",
      "source": [
        "# Contoh Pengujian Hipotesis Satu Populasi"
      ],
      "metadata": {
        "id": "ar_ToSPyL8bX"
      }
    },
    {
      "cell_type": "code",
      "source": [
        "# https://docs.google.com/spreadsheets/d/1x3abnbEGqMqYlPoDqss5Puxkx0B9owImUENxGGtXdm4/edit?gid=235186554#gid=235186554\n",
        "google_sheets_link = 'https://docs.google.com/spreadsheets/d/1x3abnbEGqMqYlPoDqss5Puxkx0B9owImUENxGGtXdm4/export?format=csv'\n",
        "df = pd.read_csv(google_sheets_link, sep=',')"
      ],
      "metadata": {
        "id": "yYo1ppCNL08l"
      },
      "execution_count": 2,
      "outputs": []
    },
    {
      "cell_type": "markdown",
      "source": [
        "## Menghitung secara manual"
      ],
      "metadata": {
        "id": "8EvkogeBMBrh"
      }
    },
    {
      "cell_type": "code",
      "source": [
        "nilai = [74, 49, 68, 86, 80, 71, 77, 81, 72, 77]\n",
        "np.mean(nilai)"
      ],
      "metadata": {
        "colab": {
          "base_uri": "https://localhost:8080/"
        },
        "id": "QqAGC_y1L-f4",
        "outputId": "df6f3ae9-297d-4cd1-8e81-8a08fec41c5c"
      },
      "execution_count": 3,
      "outputs": [
        {
          "output_type": "execute_result",
          "data": {
            "text/plain": [
              "np.float64(73.5)"
            ]
          },
          "metadata": {},
          "execution_count": 3
        }
      ]
    },
    {
      "cell_type": "code",
      "source": [
        "x_bar = np.mean(nilai)\n",
        "mu = 80\n",
        "s = np.std(nilai, ddof = 1)\n",
        "n = len(nilai)\n",
        "\n",
        "t_stat = (x_bar - mu) / (s / np.sqrt(n))\n",
        "\n",
        "print(t_stat)"
      ],
      "metadata": {
        "colab": {
          "base_uri": "https://localhost:8080/"
        },
        "id": "tnKXXOX6MF1J",
        "outputId": "91d52a9f-feeb-46c6-f517-d861102c9a5c"
      },
      "execution_count": 4,
      "outputs": [
        {
          "output_type": "stream",
          "name": "stdout",
          "text": [
            "-2.0346749160869684\n"
          ]
        }
      ]
    },
    {
      "cell_type": "code",
      "source": [
        "from scipy.stats import t\n",
        "t.ppf(0.05, n - 1)"
      ],
      "metadata": {
        "colab": {
          "base_uri": "https://localhost:8080/"
        },
        "id": "lZH4TDbIMI45",
        "outputId": "2af9ed80-53e2-46e1-fa35-0b0c6528fda5"
      },
      "execution_count": 5,
      "outputs": [
        {
          "output_type": "execute_result",
          "data": {
            "text/plain": [
              "np.float64(-1.8331129326536337)"
            ]
          },
          "metadata": {},
          "execution_count": 5
        }
      ]
    },
    {
      "cell_type": "markdown",
      "source": [
        "## Menggunakan function Python"
      ],
      "metadata": {
        "id": "e3IR5b20MMZm"
      }
    },
    {
      "cell_type": "code",
      "source": [
        "from scipy.stats import ttest_1samp\n",
        "\n",
        "t_stat, p_value = ttest_1samp(nilai, 80)\n",
        "t_stat"
      ],
      "metadata": {
        "colab": {
          "base_uri": "https://localhost:8080/"
        },
        "id": "sz65E6fZMKLR",
        "outputId": "bcbb1d5b-638b-484c-fbce-97227e19b156"
      },
      "execution_count": 6,
      "outputs": [
        {
          "output_type": "execute_result",
          "data": {
            "text/plain": [
              "np.float64(-2.0346749160869684)"
            ]
          },
          "metadata": {},
          "execution_count": 6
        }
      ]
    },
    {
      "cell_type": "code",
      "source": [
        "import numpy as np\n",
        "from scipy import stats\n",
        "import pandas as pd # Meskipun tidak langsung dipakai di contoh ini, sering ada di Colab\n",
        "\n",
        "# --- Konsep p-value ---\n",
        "\n",
        "# Tingkat Signifikansi (Alpha - ambang batas kesepakatan peneliti)\n",
        "alpha_1_persen = 0.01 # 1%\n",
        "alpha_5_persen = 0.05 # 5% (paling umum)\n",
        "alpha_10_persen = 0.10 # 10%\n",
        "\n",
        "print(f\"Tingkat signifikansi (alpha) yang umum digunakan:\")\n",
        "print(f\"- 1% (alpha = {alpha_1_persen})\")\n",
        "print(f\"- 5% (alpha = {alpha_5_persen})\")\n",
        "print(f\"- 10% (alpha = {alpha_10_persen})\")\n",
        "print(\"-\" * 30)\n",
        "\n",
        "# --- Contoh Skenario: Uji Hipotesis (One-sample t-test) ---\n",
        "# Misalkan kita ingin menguji apakah rata-rata nilai suatu kelompok\n",
        "# secara signifikan kurang dari 80.\n",
        "\n",
        "# Hipotesis Nol (H0): Rata-rata nilai = 80\n",
        "# Hipotesis Alternatif (Ha): Rata-rata nilai < 80 (uji satu-sisi, 'less')\n",
        "\n",
        "# Data sampel (acak untuk demonstrasi)\n",
        "# Anggap ini adalah nilai ujian dari 30 siswa\n",
        "np.random.seed(42) # Untuk hasil yang dapat direproduksi\n",
        "nilai_ujian_sampel = np.random.normal(loc=78, scale=5, size=30) # Rata-rata sekitar 78\n",
        "\n",
        "print(f\"Data sampel nilai ujian (30 siswa):\\n{np.round(nilai_ujian_sampel, 2)}\")\n",
        "print(f\"Rata-rata sampel: {np.mean(nilai_ujian_sampel):.2f}\")\n",
        "print(\"-\" * 30)\n",
        "\n",
        "# Lakukan One-sample t-test\n",
        "# stats.ttest_1samp(data_sampel, nilai_yang_diuji, alternative='less')\n",
        "# 'less' berarti Ha: rata-rata < nilai_yang_diuji\n",
        "t_statistic, p_value = stats.ttest_1samp(nilai_ujian_sampel, popmean=80, alternative='less')\n",
        "\n",
        "print(f\"Hasil Uji T-test Satu Sampel (H0: Rata-rata = 80 vs. Ha: Rata-rata < 80):\")\n",
        "print(f\"Statistik T: {t_statistic:.4f}\")\n",
        "print(f\"P-value: {p_value:.4f}\")\n",
        "print(\"-\" * 30)\n",
        "\n",
        "# --- Interpretasi P-value ---\n",
        "\n",
        "print(\"\\n--- Interpretasi P-value terhadap Tingkat Signifikansi ---\")\n",
        "\n",
        "# Tingkat signifikansi yang kita pilih (misal, alpha = 0.05)\n",
        "alpha_chosen = alpha_5_persen\n",
        "\n",
        "print(f\"Tingkat Signifikansi (alpha) yang dipilih: {alpha_chosen * 100:.0f}%\")\n",
        "\n",
        "if p_value < alpha_chosen:\n",
        "    print(f\"Karena P-value ({p_value:.4f}) < Alpha ({alpha_chosen:.4f}), kita MENOLAK Hipotesis Nol (H0).\")\n",
        "    print(f\"Ada bukti statistik yang signifikan untuk menyatakan bahwa rata-rata nilai kurang dari 80.\")\n",
        "else:\n",
        "    print(f\"Karena P-value ({p_value:.4f}) >= Alpha ({alpha_chosen:.4f}), kita GAGAL MENOLAK Hipotesis Nol (H0).\")\n",
        "    print(f\"Tidak ada bukti statistik yang signifikan untuk menyatakan bahwa rata-rata nilai kurang dari 80.\")\n",
        "\n",
        "print(\"-\" * 30)\n",
        "\n",
        "# --- Ilustrasi Peluang Kesalahan (Type I Error) ---\n",
        "# Konsep \"100 test -> hanya ada x% tes yang tidak memenuhi H0\"\n",
        "# Ini lebih ke simulasi Monte Carlo, tapi bisa dijelaskan secara konseptual.\n",
        "\n",
        "# Misalkan kita melakukan banyak uji (misal 1000 kali)\n",
        "# di mana H0 sebenarnya BENAR (rata-rata populasi memang 80).\n",
        "# Berapa kali kita akan MENOLAK H0 secara keliru?\n",
        "# Tingkat alpha adalah batas atas untuk peluang ini.\n",
        "\n",
        "print(\"\\n--- Konsep Peluang Kesalahan Tipe I (False Positive) ---\")\n",
        "print(f\"Jika kita menetapkan tingkat signifikansi (alpha) sebesar {alpha_chosen * 100:.0f}%,\")\n",
        "print(f\"ini berarti ada {alpha_chosen * 100:.0f}% kemungkinan kita akan MENOLAK Hipotesis Nol (H0)\")\n",
        "print(f\"padahal sebenarnya Hipotesis Nol tersebut BENAR (kita membuat keputusan yang salah).\")\n",
        "print(f\"Dalam 100 pengujian, secara rata-rata ada {alpha_chosen * 100:.0f} pengujian di mana kita keliru menolak H0.\")"
      ],
      "metadata": {
        "colab": {
          "base_uri": "https://localhost:8080/"
        },
        "id": "bZtUdZ-EMSKQ",
        "outputId": "0c50ee8c-8718-494e-9d08-a30e2dc8ab3a"
      },
      "execution_count": 9,
      "outputs": [
        {
          "output_type": "stream",
          "name": "stdout",
          "text": [
            "Tingkat signifikansi (alpha) yang umum digunakan:\n",
            "- 1% (alpha = 0.01)\n",
            "- 5% (alpha = 0.05)\n",
            "- 10% (alpha = 0.1)\n",
            "------------------------------\n",
            "Data sampel nilai ujian (30 siswa):\n",
            "[80.48 77.31 81.24 85.62 76.83 76.83 85.9  81.84 75.65 80.71 75.68 75.67\n",
            " 79.21 68.43 69.38 75.19 72.94 79.57 73.46 70.94 85.33 76.87 78.34 70.88\n",
            " 75.28 78.55 72.25 79.88 75.   76.54]\n",
            "Rata-rata sampel: 77.06\n",
            "------------------------------\n",
            "Hasil Uji T-test Satu Sampel (H0: Rata-rata = 80 vs. Ha: Rata-rata < 80):\n",
            "Statistik T: -3.5793\n",
            "P-value: 0.0006\n",
            "------------------------------\n",
            "\n",
            "--- Interpretasi P-value terhadap Tingkat Signifikansi ---\n",
            "Tingkat Signifikansi (alpha) yang dipilih: 5%\n",
            "Karena P-value (0.0006) < Alpha (0.0500), kita MENOLAK Hipotesis Nol (H0).\n",
            "Ada bukti statistik yang signifikan untuk menyatakan bahwa rata-rata nilai kurang dari 80.\n",
            "------------------------------\n",
            "\n",
            "--- Konsep Peluang Kesalahan Tipe I (False Positive) ---\n",
            "Jika kita menetapkan tingkat signifikansi (alpha) sebesar 5%,\n",
            "ini berarti ada 5% kemungkinan kita akan MENOLAK Hipotesis Nol (H0)\n",
            "padahal sebenarnya Hipotesis Nol tersebut BENAR (kita membuat keputusan yang salah).\n",
            "Dalam 100 pengujian, secara rata-rata ada 5 pengujian di mana kita keliru menolak H0.\n"
          ]
        }
      ]
    },
    {
      "cell_type": "markdown",
      "source": [
        "# Contoh Implementasi"
      ],
      "metadata": {
        "id": "JkV95x_tMwu9"
      }
    },
    {
      "cell_type": "code",
      "source": [
        "variant_revenue = df.loc[df[\"VARIANT_NAME\"] == \"variant\", \"REVENUE\"]\n",
        "variant_revenue.describe()"
      ],
      "metadata": {
        "colab": {
          "base_uri": "https://localhost:8080/",
          "height": 335
        },
        "id": "ODhSMEdoMTwh",
        "outputId": "12b5de52-ba27-4fcb-c108-180ed0508d5c"
      },
      "execution_count": 11,
      "outputs": [
        {
          "output_type": "execute_result",
          "data": {
            "text/plain": [
              "count    5016.000000\n",
              "mean        0.070070\n",
              "std         1.314802\n",
              "min         0.000000\n",
              "25%         0.000000\n",
              "50%         0.000000\n",
              "75%         0.000000\n",
              "max        58.630000\n",
              "Name: REVENUE, dtype: float64"
            ],
            "text/html": [
              "<div>\n",
              "<style scoped>\n",
              "    .dataframe tbody tr th:only-of-type {\n",
              "        vertical-align: middle;\n",
              "    }\n",
              "\n",
              "    .dataframe tbody tr th {\n",
              "        vertical-align: top;\n",
              "    }\n",
              "\n",
              "    .dataframe thead th {\n",
              "        text-align: right;\n",
              "    }\n",
              "</style>\n",
              "<table border=\"1\" class=\"dataframe\">\n",
              "  <thead>\n",
              "    <tr style=\"text-align: right;\">\n",
              "      <th></th>\n",
              "      <th>REVENUE</th>\n",
              "    </tr>\n",
              "  </thead>\n",
              "  <tbody>\n",
              "    <tr>\n",
              "      <th>count</th>\n",
              "      <td>5016.000000</td>\n",
              "    </tr>\n",
              "    <tr>\n",
              "      <th>mean</th>\n",
              "      <td>0.070070</td>\n",
              "    </tr>\n",
              "    <tr>\n",
              "      <th>std</th>\n",
              "      <td>1.314802</td>\n",
              "    </tr>\n",
              "    <tr>\n",
              "      <th>min</th>\n",
              "      <td>0.000000</td>\n",
              "    </tr>\n",
              "    <tr>\n",
              "      <th>25%</th>\n",
              "      <td>0.000000</td>\n",
              "    </tr>\n",
              "    <tr>\n",
              "      <th>50%</th>\n",
              "      <td>0.000000</td>\n",
              "    </tr>\n",
              "    <tr>\n",
              "      <th>75%</th>\n",
              "      <td>0.000000</td>\n",
              "    </tr>\n",
              "    <tr>\n",
              "      <th>max</th>\n",
              "      <td>58.630000</td>\n",
              "    </tr>\n",
              "  </tbody>\n",
              "</table>\n",
              "</div><br><label><b>dtype:</b> float64</label>"
            ]
          },
          "metadata": {},
          "execution_count": 11
        }
      ]
    },
    {
      "cell_type": "code",
      "source": [
        "variant_revenue.hist(bins = 100)"
      ],
      "metadata": {
        "colab": {
          "base_uri": "https://localhost:8080/",
          "height": 447
        },
        "id": "v0sbm5E-Mypc",
        "outputId": "6a58c54f-8839-43fd-ef1e-bfbfc231e8c5"
      },
      "execution_count": 12,
      "outputs": [
        {
          "output_type": "execute_result",
          "data": {
            "text/plain": [
              "<Axes: >"
            ]
          },
          "metadata": {},
          "execution_count": 12
        },
        {
          "output_type": "display_data",
          "data": {
            "text/plain": [
              "<Figure size 640x480 with 1 Axes>"
            ],
            "image/png": "[encoded data removed]"
          },
          "metadata": {}
        }
      ]
    },
    {
      "cell_type": "code",
      "source": [
        "ttest_1samp(variant_revenue, 0)"
      ],
      "metadata": {
        "colab": {
          "base_uri": "https://localhost:8080/"
        },
        "id": "QFisAlGFM1vd",
        "outputId": "43b9ce76-00f9-4b25-db26-8a455a369e7c"
      },
      "execution_count": 13,
      "outputs": [
        {
          "output_type": "execute_result",
          "data": {
            "text/plain": [
              "TtestResult(statistic=np.float64(3.774410929668571), pvalue=np.float64(0.00016223887213175306), df=np.int64(5015))"
            ]
          },
          "metadata": {},
          "execution_count": 13
        }
      ]
    },
    {
      "cell_type": "markdown",
      "source": [
        "## Contoh Pengujian Hipotesis Dua Populasi"
      ],
      "metadata": {
        "id": "TicZdkFtM5jT"
      }
    },
    {
      "cell_type": "code",
      "source": [
        "from scipy.stats import norm\n",
        "norm.rvs(loc = 70, scale = 10, size = 10).round().astype(\"int\")"
      ],
      "metadata": {
        "colab": {
          "base_uri": "https://localhost:8080/"
        },
        "id": "SsQsOlCdM3bv",
        "outputId": "1971c1b5-ece8-4bae-ba15-8040af892a39"
      },
      "execution_count": 15,
      "outputs": [
        {
          "output_type": "execute_result",
          "data": {
            "text/plain": [
              "array([64, 89, 70, 59, 78, 58, 72, 50, 57, 72])"
            ]
          },
          "metadata": {},
          "execution_count": 15
        }
      ]
    },
    {
      "cell_type": "code",
      "source": [
        "kelas_1 = [74, 49, 68, 86, 80, 71, 77, 81, 72, 77]\n",
        "kelas_2 = [78, 57, 65, 82, 73, 76, 54, 58]"
      ],
      "metadata": {
        "id": "UsWUom1KM7Nv"
      },
      "execution_count": 16,
      "outputs": []
    },
    {
      "cell_type": "code",
      "source": [
        "x_bar1 = np.mean(kelas_1)\n",
        "s1 = np.std(kelas_1, ddof = 1)\n",
        "n1 = len(kelas_1)\n",
        "\n",
        "x_bar2 = np.mean(kelas_2)\n",
        "s2 = np.std(kelas_2, ddof = 1)\n",
        "n2 = len(kelas_2)"
      ],
      "metadata": {
        "id": "QNz5pK6LNBtp"
      },
      "execution_count": 17,
      "outputs": []
    },
    {
      "cell_type": "code",
      "source": [
        "print(f\"Standard deviasi kelas 1: {s1}\")\n",
        "print(f\"Standard deviasi kelas 2: {s2}\")"
      ],
      "metadata": {
        "colab": {
          "base_uri": "https://localhost:8080/"
        },
        "id": "2g5xuIonNC70",
        "outputId": "fed81044-2518-4112-fc64-be4bad1c5800"
      },
      "execution_count": 18,
      "outputs": [
        {
          "output_type": "stream",
          "name": "stdout",
          "text": [
            "Standard deviasi kelas 1: 10.102254973794492\n",
            "Standard deviasi kelas 2: 10.76286605483343\n"
          ]
        }
      ]
    },
    {
      "cell_type": "code",
      "source": [
        "df = n1 + n2 - 2\n",
        "sp = np.sqrt(((n1 - 1) * np.power(s1, 2) + (n2 - 1) * np.power(s2, 2)) / df)"
      ],
      "metadata": {
        "id": "lRgy_mwKNEDq"
      },
      "execution_count": 19,
      "outputs": []
    },
    {
      "cell_type": "code",
      "source": [
        "t_stat = (x_bar1 - x_bar2) / (sp * np.sqrt(1/n1 + 1/n2))\n",
        "print(t_stat)"
      ],
      "metadata": {
        "colab": {
          "base_uri": "https://localhost:8080/"
        },
        "id": "4FYGon19NFQw",
        "outputId": "278522c6-afe0-48ba-a07c-acacc7337817"
      },
      "execution_count": 20,
      "outputs": [
        {
          "output_type": "stream",
          "name": "stdout",
          "text": [
            "1.140634940065406\n"
          ]
        }
      ]
    },
    {
      "cell_type": "code",
      "source": [
        "from scipy.stats import ttest_ind"
      ],
      "metadata": {
        "id": "K4f59xp9NGO4"
      },
      "execution_count": 21,
      "outputs": []
    },
    {
      "cell_type": "code",
      "source": [
        "t_stat, p_value =  ttest_ind(kelas_1, kelas_2, equal_var = True)"
      ],
      "metadata": {
        "id": "fiZ8hkTZNJBY"
      },
      "execution_count": 22,
      "outputs": []
    },
    {
      "cell_type": "code",
      "source": [
        "if p_value < 0.05:\n",
        "  print(\"Nilai kelas 1 dan kelas 2 berbeda\")\n",
        "else:\n",
        "  print(\"Nilai kelas 1 dan kelas 2 sama\")"
      ],
      "metadata": {
        "colab": {
          "base_uri": "https://localhost:8080/"
        },
        "id": "wTZtsj98NJp9",
        "outputId": "d5184efd-c290-46c7-fc50-f6f3f085c24f"
      },
      "execution_count": 23,
      "outputs": [
        {
          "output_type": "stream",
          "name": "stdout",
          "text": [
            "Nilai kelas 1 dan kelas 2 sama\n"
          ]
        }
      ]
    },
    {
      "cell_type": "code",
      "source": [
        "p_value"
      ],
      "metadata": {
        "colab": {
          "base_uri": "https://localhost:8080/"
        },
        "id": "EZyNN5JTNLNM",
        "outputId": "c6782c41-454f-464b-d1cb-38c9e2b37c04"
      },
      "execution_count": 24,
      "outputs": [
        {
          "output_type": "execute_result",
          "data": {
            "text/plain": [
              "np.float64(0.2708083866673808)"
            ]
          },
          "metadata": {},
          "execution_count": 24
        }
      ]
    },
    {
      "cell_type": "code",
      "source": [
        "# Reload the dataframe before using it\n",
        "google_sheets_link = 'https://docs.google.com/spreadsheets/d/1x3abnbEGqMqYlPoDqss5Puxkx0B9owImUENxGGtXdm4/export?format=csv'\n",
        "df = pd.read_csv(google_sheets_link, sep=',')\n",
        "\n",
        "# Now df is the DataFrame again, and .loc can be used\n",
        "variant_revenue = df.loc[df[\"VARIANT_NAME\"] == \"variant\", \"REVENUE\"]\n",
        "control_revenue = df.loc[df[\"VARIANT_NAME\"] == \"control\", \"REVENUE\"]"
      ],
      "metadata": {
        "id": "c5djSQW5NMQB"
      },
      "execution_count": 26,
      "outputs": []
    },
    {
      "cell_type": "code",
      "source": [
        "variant_revenue.describe()"
      ],
      "metadata": {
        "colab": {
          "base_uri": "https://localhost:8080/",
          "height": 335
        },
        "id": "e170HHBNNNqv",
        "outputId": "28f8553d-c5de-4046-f032-cf57b4603146"
      },
      "execution_count": 27,
      "outputs": [
        {
          "output_type": "execute_result",
          "data": {
            "text/plain": [
              "count    5016.000000\n",
              "mean        0.070070\n",
              "std         1.314802\n",
              "min         0.000000\n",
              "25%         0.000000\n",
              "50%         0.000000\n",
              "75%         0.000000\n",
              "max        58.630000\n",
              "Name: REVENUE, dtype: float64"
            ],
            "text/html": [
              "<div>\n",
              "<style scoped>\n",
              "    .dataframe tbody tr th:only-of-type {\n",
              "        vertical-align: middle;\n",
              "    }\n",
              "\n",
              "    .dataframe tbody tr th {\n",
              "        vertical-align: top;\n",
              "    }\n",
              "\n",
              "    .dataframe thead th {\n",
              "        text-align: right;\n",
              "    }\n",
              "</style>\n",
              "<table border=\"1\" class=\"dataframe\">\n",
              "  <thead>\n",
              "    <tr style=\"text-align: right;\">\n",
              "      <th></th>\n",
              "      <th>REVENUE</th>\n",
              "    </tr>\n",
              "  </thead>\n",
              "  <tbody>\n",
              "    <tr>\n",
              "      <th>count</th>\n",
              "      <td>5016.000000</td>\n",
              "    </tr>\n",
              "    <tr>\n",
              "      <th>mean</th>\n",
              "      <td>0.070070</td>\n",
              "    </tr>\n",
              "    <tr>\n",
              "      <th>std</th>\n",
              "      <td>1.314802</td>\n",
              "    </tr>\n",
              "    <tr>\n",
              "      <th>min</th>\n",
              "      <td>0.000000</td>\n",
              "    </tr>\n",
              "    <tr>\n",
              "      <th>25%</th>\n",
              "      <td>0.000000</td>\n",
              "    </tr>\n",
              "    <tr>\n",
              "      <th>50%</th>\n",
              "      <td>0.000000</td>\n",
              "    </tr>\n",
              "    <tr>\n",
              "      <th>75%</th>\n",
              "      <td>0.000000</td>\n",
              "    </tr>\n",
              "    <tr>\n",
              "      <th>max</th>\n",
              "      <td>58.630000</td>\n",
              "    </tr>\n",
              "  </tbody>\n",
              "</table>\n",
              "</div><br><label><b>dtype:</b> float64</label>"
            ]
          },
          "metadata": {},
          "execution_count": 27
        }
      ]
    },
    {
      "cell_type": "code",
      "source": [
        "control_revenue.describe()"
      ],
      "metadata": {
        "colab": {
          "base_uri": "https://localhost:8080/",
          "height": 335
        },
        "id": "1ZK2SxawNUyL",
        "outputId": "ebe1d722-fa71-4291-c5c4-e4183fb38810"
      },
      "execution_count": 28,
      "outputs": [
        {
          "output_type": "execute_result",
          "data": {
            "text/plain": [
              "count    4984.000000\n",
              "mean        0.129013\n",
              "std         3.007524\n",
              "min         0.000000\n",
              "25%         0.000000\n",
              "50%         0.000000\n",
              "75%         0.000000\n",
              "max       196.010000\n",
              "Name: REVENUE, dtype: float64"
            ],
            "text/html": [
              "<div>\n",
              "<style scoped>\n",
              "    .dataframe tbody tr th:only-of-type {\n",
              "        vertical-align: middle;\n",
              "    }\n",
              "\n",
              "    .dataframe tbody tr th {\n",
              "        vertical-align: top;\n",
              "    }\n",
              "\n",
              "    .dataframe thead th {\n",
              "        text-align: right;\n",
              "    }\n",
              "</style>\n",
              "<table border=\"1\" class=\"dataframe\">\n",
              "  <thead>\n",
              "    <tr style=\"text-align: right;\">\n",
              "      <th></th>\n",
              "      <th>REVENUE</th>\n",
              "    </tr>\n",
              "  </thead>\n",
              "  <tbody>\n",
              "    <tr>\n",
              "      <th>count</th>\n",
              "      <td>4984.000000</td>\n",
              "    </tr>\n",
              "    <tr>\n",
              "      <th>mean</th>\n",
              "      <td>0.129013</td>\n",
              "    </tr>\n",
              "    <tr>\n",
              "      <th>std</th>\n",
              "      <td>3.007524</td>\n",
              "    </tr>\n",
              "    <tr>\n",
              "      <th>min</th>\n",
              "      <td>0.000000</td>\n",
              "    </tr>\n",
              "    <tr>\n",
              "      <th>25%</th>\n",
              "      <td>0.000000</td>\n",
              "    </tr>\n",
              "    <tr>\n",
              "      <th>50%</th>\n",
              "      <td>0.000000</td>\n",
              "    </tr>\n",
              "    <tr>\n",
              "      <th>75%</th>\n",
              "      <td>0.000000</td>\n",
              "    </tr>\n",
              "    <tr>\n",
              "      <th>max</th>\n",
              "      <td>196.010000</td>\n",
              "    </tr>\n",
              "  </tbody>\n",
              "</table>\n",
              "</div><br><label><b>dtype:</b> float64</label>"
            ]
          },
          "metadata": {},
          "execution_count": 28
        }
      ]
    },
    {
      "cell_type": "code",
      "source": [
        "sns.barplot(data = df, y = \"REVENUE\", x = \"VARIANT_NAME\")"
      ],
      "metadata": {
        "colab": {
          "base_uri": "https://localhost:8080/",
          "height": 466
        },
        "id": "GdZcHC2TNW41",
        "outputId": "6bcb1e9a-7b61-49fa-81f5-e7349207ae3e"
      },
      "execution_count": 29,
      "outputs": [
        {
          "output_type": "execute_result",
          "data": {
            "text/plain": [
              "<Axes: xlabel='VARIANT_NAME', ylabel='REVENUE'>"
            ]
          },
          "metadata": {},
          "execution_count": 29
        },
        {
          "output_type": "display_data",
          "data": {
            "text/plain": [
              "<Figure size 640x480 with 1 Axes>"
            ],
            "image/png": "[encoded data removed]"
          },
          "metadata": {}
        }
      ]
    },
    {
      "cell_type": "code",
      "source": [
        "t_stat, p_value =  ttest_ind(control_revenue, variant_revenue, equal_var = False)\n",
        "p_value"
      ],
      "metadata": {
        "colab": {
          "base_uri": "https://localhost:8080/"
        },
        "id": "F5BtA8K-NYpC",
        "outputId": "d1a2a697-2ea9-4486-f4de-c1709daf6bfe"
      },
      "execution_count": 30,
      "outputs": [
        {
          "output_type": "execute_result",
          "data": {
            "text/plain": [
              "np.float64(0.20469713432410777)"
            ]
          },
          "metadata": {},
          "execution_count": 30
        }
      ]
    },
    {
      "cell_type": "code",
      "source": [
        "df.groupby(\"VARIANT_NAME\")[\"REVENUE\"].apply(lambda x: sum(x > 0))"
      ],
      "metadata": {
        "colab": {
          "base_uri": "https://localhost:8080/",
          "height": 178
        },
        "id": "JGWMG3tINaX6",
        "outputId": "5d28db7a-a619-4219-b068-0122d41ff1f3"
      },
      "execution_count": 31,
      "outputs": [
        {
          "output_type": "execute_result",
          "data": {
            "text/plain": [
              "VARIANT_NAME\n",
              "control    80\n",
              "variant    72\n",
              "Name: REVENUE, dtype: int64"
            ],
            "text/html": [
              "<div>\n",
              "<style scoped>\n",
              "    .dataframe tbody tr th:only-of-type {\n",
              "        vertical-align: middle;\n",
              "    }\n",
              "\n",
              "    .dataframe tbody tr th {\n",
              "        vertical-align: top;\n",
              "    }\n",
              "\n",
              "    .dataframe thead th {\n",
              "        text-align: right;\n",
              "    }\n",
              "</style>\n",
              "<table border=\"1\" class=\"dataframe\">\n",
              "  <thead>\n",
              "    <tr style=\"text-align: right;\">\n",
              "      <th></th>\n",
              "      <th>REVENUE</th>\n",
              "    </tr>\n",
              "    <tr>\n",
              "      <th>VARIANT_NAME</th>\n",
              "      <th></th>\n",
              "    </tr>\n",
              "  </thead>\n",
              "  <tbody>\n",
              "    <tr>\n",
              "      <th>control</th>\n",
              "      <td>80</td>\n",
              "    </tr>\n",
              "    <tr>\n",
              "      <th>variant</th>\n",
              "      <td>72</td>\n",
              "    </tr>\n",
              "  </tbody>\n",
              "</table>\n",
              "</div><br><label><b>dtype:</b> int64</label>"
            ]
          },
          "metadata": {},
          "execution_count": 31
        }
      ]
    },
    {
      "cell_type": "markdown",
      "source": [
        "## Contoh Pengujian Hipotesis Dua Populasi Berpasangan"
      ],
      "metadata": {
        "id": "eO50RhI2Ndmp"
      }
    },
    {
      "cell_type": "code",
      "source": [
        "sebelum = [59, 71, 64, 75, 75, 61, 52, 66, 71, 69]\n",
        "sesudah = [98, 91, 86, 72, 77, 54, 69, 89, 66, 87]"
      ],
      "metadata": {
        "id": "t9iXlZoYNbeq"
      },
      "execution_count": 32,
      "outputs": []
    },
    {
      "cell_type": "code",
      "source": [
        "beda = np.array(sesudah) - np.array(sebelum)\n",
        "x_beda = np.mean(beda)\n",
        "sd = np.std(beda, ddof = 1)\n",
        "n = len(beda)\n",
        "mu = 0"
      ],
      "metadata": {
        "id": "c_TFNcB7Nflm"
      },
      "execution_count": 33,
      "outputs": []
    },
    {
      "cell_type": "code",
      "source": [
        "t_stat = (x_beda - mu) / (sd / np.sqrt(n))"
      ],
      "metadata": {
        "id": "qJnHG-zONgt_"
      },
      "execution_count": 34,
      "outputs": []
    },
    {
      "cell_type": "code",
      "source": [
        "t_stat"
      ],
      "metadata": {
        "colab": {
          "base_uri": "https://localhost:8080/"
        },
        "id": "x23uqDQcNiK8",
        "outputId": "a0fa743f-bbac-4ba0-910c-df5518708651"
      },
      "execution_count": 35,
      "outputs": [
        {
          "output_type": "execute_result",
          "data": {
            "text/plain": [
              "np.float64(2.6423876827871844)"
            ]
          },
          "metadata": {},
          "execution_count": 35
        }
      ]
    },
    {
      "cell_type": "code",
      "source": [
        "from scipy.stats import ttest_rel"
      ],
      "metadata": {
        "id": "dT0n1HsSNjOb"
      },
      "execution_count": 36,
      "outputs": []
    },
    {
      "cell_type": "code",
      "source": [
        "t_stat, p_value = ttest_rel(sesudah, sebelum)"
      ],
      "metadata": {
        "id": "xJ6kW_h4Nlif"
      },
      "execution_count": 37,
      "outputs": []
    },
    {
      "cell_type": "code",
      "source": [
        "if p_value < 0.05:\n",
        "  print(\"Nilai sesudah berbeda daripada nilai sebelum\")\n",
        "else:\n",
        "  print(\"Nilai sesudah sama dengan nilai sebelum\")"
      ],
      "metadata": {
        "colab": {
          "base_uri": "https://localhost:8080/"
        },
        "id": "9zDQRYArNlzb",
        "outputId": "a7b9bf51-b1b6-4db5-fe97-93d5f3e93432"
      },
      "execution_count": 38,
      "outputs": [
        {
          "output_type": "stream",
          "name": "stdout",
          "text": [
            "Nilai sesudah berbeda daripada nilai sebelum\n"
          ]
        }
      ]
    },
    {
      "cell_type": "code",
      "source": [
        "t_stat"
      ],
      "metadata": {
        "colab": {
          "base_uri": "https://localhost:8080/"
        },
        "id": "5ZJaBZqINm0A",
        "outputId": "9e7b0ce1-4f68-4712-a7aa-f89c7284aeee"
      },
      "execution_count": 39,
      "outputs": [
        {
          "output_type": "execute_result",
          "data": {
            "text/plain": [
              "np.float64(2.6423876827871844)"
            ]
          },
          "metadata": {},
          "execution_count": 39
        }
      ]
    },
    {
      "cell_type": "markdown",
      "source": [
        "## Uji Beda Proporsi"
      ],
      "metadata": {
        "id": "924fJOHtNqvQ"
      }
    },
    {
      "cell_type": "code",
      "source": [
        "perempuan_selamat = 233\n",
        "total_perempuan = 314\n",
        "laki_selamat = 109\n",
        "total_laki = 577"
      ],
      "metadata": {
        "id": "KrzU8-uPNogx"
      },
      "execution_count": 40,
      "outputs": []
    },
    {
      "cell_type": "code",
      "source": [
        "proporsi_perempuan = perempuan_selamat / total_perempuan\n",
        "proporsi_laki = laki_selamat / total_laki\n",
        "\n",
        "prop_gabungan = (perempuan_selamat + laki_selamat) / (total_perempuan + total_laki)"
      ],
      "metadata": {
        "id": "46V40LczNsKF"
      },
      "execution_count": 41,
      "outputs": []
    },
    {
      "cell_type": "code",
      "source": [
        "t_stat = (proporsi_perempuan - proporsi_laki) / np.sqrt(prop_gabungan * (1 - prop_gabungan) * (1/ total_perempuan + 1/ total_laki))\n",
        "print(t_stat)"
      ],
      "metadata": {
        "colab": {
          "base_uri": "https://localhost:8080/"
        },
        "id": "eOWcwR2LNtZP",
        "outputId": "10b25952-fff2-4cda-f107-bb3e677c1496"
      },
      "execution_count": 42,
      "outputs": [
        {
          "output_type": "stream",
          "name": "stdout",
          "text": [
            "16.218833930670097\n"
          ]
        }
      ]
    },
    {
      "cell_type": "code",
      "source": [
        "from statsmodels.stats.proportion import proportions_ztest"
      ],
      "metadata": {
        "id": "xc5Dud1oNu2W"
      },
      "execution_count": 43,
      "outputs": []
    },
    {
      "cell_type": "code",
      "source": [
        "proportions_ztest([perempuan_selamat, laki_selamat], [total_perempuan, total_laki])"
      ],
      "metadata": {
        "colab": {
          "base_uri": "https://localhost:8080/"
        },
        "id": "POInbQn7Nv4h",
        "outputId": "9d5bc0a6-b15a-4802-e647-23e5e618bfe1"
      },
      "execution_count": 44,
      "outputs": [
        {
          "output_type": "execute_result",
          "data": {
            "text/plain": [
              "(np.float64(16.218833930670097), np.float64(3.7117477701134797e-59))"
            ]
          },
          "metadata": {},
          "execution_count": 44
        }
      ]
    },
    {
      "cell_type": "code",
      "source": [
        "proporsi_laki"
      ],
      "metadata": {
        "colab": {
          "base_uri": "https://localhost:8080/"
        },
        "id": "i4tnlQ5jNw8u",
        "outputId": "761d53df-7bb4-4ef3-f9df-d9aa5e5ca207"
      },
      "execution_count": 45,
      "outputs": [
        {
          "output_type": "execute_result",
          "data": {
            "text/plain": [
              "0.18890814558058924"
            ]
          },
          "metadata": {},
          "execution_count": 45
        }
      ]
    },
    {
      "cell_type": "code",
      "source": [
        "from statsmodels.stats.proportion import proportions_ztest"
      ],
      "metadata": {
        "id": "0RPeoNqaNyMw"
      },
      "execution_count": 46,
      "outputs": []
    },
    {
      "cell_type": "code",
      "source": [
        "control_revneue_positive = df.loc[(df[\"VARIANT_NAME\"] == \"control\") & (df[\"REVENUE\"] > 0)][\"USER_ID\"].nunique()\n",
        "variant_revneue_positive = df.loc[(df[\"VARIANT_NAME\"] == \"variant\") & (df[\"REVENUE\"] > 0)][\"USER_ID\"].nunique()"
      ],
      "metadata": {
        "id": "XbKoohSiNzTE"
      },
      "execution_count": 47,
      "outputs": []
    },
    {
      "cell_type": "code",
      "source": [
        "df.groupby(\"VARIANT_NAME\")[\"USER_ID\"].nunique()"
      ],
      "metadata": {
        "colab": {
          "base_uri": "https://localhost:8080/",
          "height": 178
        },
        "id": "-4574byFN0JG",
        "outputId": "c4fc0f34-6b4e-43f1-ccd2-08326a5edfa3"
      },
      "execution_count": 48,
      "outputs": [
        {
          "output_type": "execute_result",
          "data": {
            "text/plain": [
              "VARIANT_NAME\n",
              "control    3931\n",
              "variant    3934\n",
              "Name: USER_ID, dtype: int64"
            ],
            "text/html": [
              "<div>\n",
              "<style scoped>\n",
              "    .dataframe tbody tr th:only-of-type {\n",
              "        vertical-align: middle;\n",
              "    }\n",
              "\n",
              "    .dataframe tbody tr th {\n",
              "        vertical-align: top;\n",
              "    }\n",
              "\n",
              "    .dataframe thead th {\n",
              "        text-align: right;\n",
              "    }\n",
              "</style>\n",
              "<table border=\"1\" class=\"dataframe\">\n",
              "  <thead>\n",
              "    <tr style=\"text-align: right;\">\n",
              "      <th></th>\n",
              "      <th>USER_ID</th>\n",
              "    </tr>\n",
              "    <tr>\n",
              "      <th>VARIANT_NAME</th>\n",
              "      <th></th>\n",
              "    </tr>\n",
              "  </thead>\n",
              "  <tbody>\n",
              "    <tr>\n",
              "      <th>control</th>\n",
              "      <td>3931</td>\n",
              "    </tr>\n",
              "    <tr>\n",
              "      <th>variant</th>\n",
              "      <td>3934</td>\n",
              "    </tr>\n",
              "  </tbody>\n",
              "</table>\n",
              "</div><br><label><b>dtype:</b> int64</label>"
            ]
          },
          "metadata": {},
          "execution_count": 48
        }
      ]
    },
    {
      "cell_type": "code",
      "source": [
        "proportions_ztest([control_revneue_positive, variant_revneue_positive], [3931, 3934])"
      ],
      "metadata": {
        "colab": {
          "base_uri": "https://localhost:8080/"
        },
        "id": "bcLb9ncaN1FV",
        "outputId": "591fafa0-5d44-4e09-f14e-c6cb0e1a01e3"
      },
      "execution_count": 49,
      "outputs": [
        {
          "output_type": "execute_result",
          "data": {
            "text/plain": [
              "(np.float64(0.7442761379156507), np.float64(0.4567094342624727))"
            ]
          },
          "metadata": {},
          "execution_count": 49
        }
      ]
    },
    {
      "cell_type": "code",
      "source": [
        "import pandas as pd\n",
        "import numpy as np\n",
        "from scipy import stats\n",
        "from statsmodels.stats.proportion import proportions_ztest\n",
        "import matplotlib.pyplot as plt\n",
        "import seaborn as sns\n",
        "\n",
        "# --- 1. Simulasi Data A/B Test ---\n",
        "# Membuat data simulasi yang lebih realistis\n",
        "np.random.seed(42) # Untuk reproduktibilitas hasil\n",
        "\n",
        "num_users_per_group = 5000\n",
        "\n",
        "# Data Grup Kontrol (UI Lama)\n",
        "control_users = np.arange(1, num_users_per_group + 1)\n",
        "control_revenues = np.random.normal(loc=10, scale=8, size=num_users_per_group) # Rata-rata 10, std 8\n",
        "control_revenues[control_revenues < 0] = 0 # Revenue tidak boleh negatif\n",
        "\n",
        "# Simulate some users having 0 revenue (non-converters)\n",
        "control_is_converter = np.random.rand(num_users_per_group) < 0.25 # 25% conversion rate\n",
        "control_revenues[~control_is_converter] = 0 # Set revenue to 0 for non-converters\n",
        "\n",
        "df_control = pd.DataFrame({\n",
        "    'user_id': control_users,\n",
        "    'group': 'control',\n",
        "    'revenue': control_revenues\n",
        "})\n",
        "\n",
        "# Data Grup Varian (UI Baru) - sedikit lebih baik\n",
        "variant_users = np.arange(num_users_per_group + 1, num_users_per_group * 2 + 1)\n",
        "variant_revenues = np.random.normal(loc=12, scale=9, size=num_users_per_group) # Rata-rata 12, std 9\n",
        "variant_revenues[variant_revenues < 0] = 0 # Revenue tidak boleh negatif\n",
        "\n",
        "# Simulate slightly higher conversion rate for variant\n",
        "variant_is_converter = np.random.rand(num_users_per_group) < 0.28 # 28% conversion rate\n",
        "variant_revenues[~variant_is_converter] = 0 # Set revenue to 0 for non-converters\n",
        "\n",
        "df_variant = pd.DataFrame({\n",
        "    'user_id': variant_users,\n",
        "    'group': 'variant',\n",
        "    'revenue': variant_revenues\n",
        "})\n",
        "\n",
        "# Gabungkan kedua DataFrame\n",
        "df_ab_test = pd.concat([df_control, df_variant], ignore_index=True)\n",
        "\n",
        "print(\"--- Data Simulasi A/B Test (5 Baris Pertama) ---\")\n",
        "print(df_ab_test.head())\n",
        "print(\"\\n--- Statistik Ringkasan Per Grup ---\")\n",
        "print(df_ab_test.groupby('group')['revenue'].agg(['count', 'mean', 'std']).round(2))\n",
        "print(\"-\" * 50)\n",
        "\n",
        "# Visualisasi distribusi pendapatan\n",
        "plt.figure(figsize=(10, 6))\n",
        "sns.histplot(df_ab_test, x='revenue', hue='group', kde=True, bins=50)\n",
        "plt.title('Distribusi Pendapatan per Grup')\n",
        "plt.xlabel('Pendapatan')\n",
        "plt.ylabel('Jumlah Pengguna')\n",
        "plt.grid(axis='y', linestyle='--', alpha=0.7)\n",
        "plt.show()\n",
        "\n",
        "# --- 2. Analisis Metrik Pendapatan (Revenue) - Uji-t Independen ---\n",
        "# Hipotesis Alternatif: revenue_variant > revenue_control (uji satu-sisi)\n",
        "# Tingkat Signifikansi (Alpha)\n",
        "alpha = 0.05\n",
        "\n",
        "control_revenue = df_ab_test[df_ab_test['group'] == 'control']['revenue']\n",
        "variant_revenue = df_ab_test[df_ab_test['group'] == 'variant']['revenue']\n",
        "\n",
        "print(\"\\n--- Analisis Metrik Pendapatan (Revenue) ---\")\n",
        "print(f\"Rata-rata Pendapatan Kontrol: {control_revenue.mean():.2f}\")\n",
        "print(f\"Rata-rata Pendapatan Varian: {variant_revenue.mean():.2f}\")\n",
        "\n",
        "# Lakukan Uji-t Independen\n",
        "# asumsi: variansi tidak harus sama (equal_var=False, Welch's t-test)\n",
        "# 'greater' karena Ha: mean_variant > mean_control\n",
        "t_stat_revenue, p_value_revenue = stats.ttest_ind(\n",
        "    variant_revenue, control_revenue, equal_var=False, alternative='greater'\n",
        ")\n",
        "\n",
        "print(f\"\\nHipotesis Nol (H0): Rata-rata pendapatan Varian <= Rata-rata pendapatan Kontrol\")\n",
        "print(f\"Hipotesis Alternatif (Ha): Rata-rata pendapatan Varian > Rata-rata pendapatan Kontrol\")\n",
        "print(f\"Statistik T (Revenue): {t_stat_revenue:.4f}\")\n",
        "print(f\"P-value (Revenue): {p_value_revenue:.4f}\")\n",
        "\n",
        "if p_value_revenue < alpha:\n",
        "    print(f\"Kesimpulan: P-value ({p_value_revenue:.4f}) < Alpha ({alpha}), MENOLAK H0.\")\n",
        "    print(\"Ada bukti statistik yang signifikan bahwa UI Netflix baru menghasilkan pendapatan rata-rata yang lebih tinggi.\")\n",
        "else:\n",
        "    print(f\"Kesimpulan: P-value ({p_value_revenue:.4f}) >= Alpha ({alpha}), GAGAL MENOLAK H0.\")\n",
        "    print(\"Tidak ada bukti statistik yang signifikan bahwa UI Netflix baru menghasilkan pendapatan rata-rata yang lebih tinggi.\")\n",
        "print(\"-\" * 50)\n",
        "\n",
        "# --- 3. Analisis Metrik Konversi (Proportion Test) ---\n",
        "# Konversi = pengguna dengan revenue > 0\n",
        "# Hipotesis Alternatif: proporsi_variant > proporsi_control (uji satu-sisi)\n",
        "\n",
        "# Hitung jumlah konversi dan total pengguna per grup\n",
        "conversions_control = (control_revenue > 0).sum()\n",
        "total_users_control = len(control_revenue)\n",
        "\n",
        "conversions_variant = (variant_revenue > 0).sum()\n",
        "total_users_variant = len(variant_revenue)\n",
        "\n",
        "print(\"\\n--- Analisis Metrik Konversi ---\")\n",
        "print(f\"Grup Kontrol: {conversions_control} konversi dari {total_users_control} pengguna ({conversions_control/total_users_control:.2%})\")\n",
        "print(f\"Grup Varian: {conversions_variant} konversi dari {total_users_variant} pengguna ({conversions_variant/total_users_variant:.2%})\")\n",
        "\n",
        "# Lakukan Uji-Z Proporsi\n",
        "# counts = [jumlah_konversi_varian, jumlah_konversi_kontrol]\n",
        "# nobs = [total_pengguna_varian, total_pengguna_kontrol]\n",
        "# alternative='larger' karena Ha: proporsi_variant > proporsi_control\n",
        "stat_prop, p_value_prop = proportions_ztest(\n",
        "    [conversions_variant, conversions_control], # Pass counts as the first positional argument\n",
        "    [total_users_variant, total_users_control], # Pass nobs as the second positional argument\n",
        "    alternative='larger'\n",
        ")\n",
        "\n",
        "print(f\"\\nHipotesis Nol (H0): Proporsi konversi Varian <= Proporsi konversi Kontrol\")\n",
        "print(f\"Hipotesis Alternatif (Ha): Proporsi konversi Varian > Proporsi konversi Kontrol\")\n",
        "print(f\"Statistik Z (Konversi): {stat_prop:.4f}\")\n",
        "print(f\"P-value (Konversi): {p_value_prop:.4f}\")\n",
        "\n",
        "if p_value_prop < alpha:\n",
        "    print(f\"Kesimpulan: P-value ({p_value_prop:.4f}) < Alpha ({alpha}), MENOLAK H0.\")\n",
        "    print(\"Ada bukti statistik yang signifikan bahwa UI Netflix baru menghasilkan tingkat konversi yang lebih tinggi.\")\n",
        "else:\n",
        "    print(f\"Kesimpulan: P-value ({p_value_prop:.4f}) >= Alpha ({alpha}), GAGAL MENOLAK H0.\")\n",
        "    print(\"Tidak ada bukti statistik yang signifikan bahwa UI Netflix baru menghasilkan tingkat konversi yang lebih tinggi.\")\n",
        "print(\"-\" * 50)"
      ],
      "metadata": {
        "colab": {
          "base_uri": "https://localhost:8080/",
          "height": 1000
        },
        "id": "nac1r-6cN2Xx",
        "outputId": "2818d962-14c7-43f5-8f47-5c7f3c67f81b"
      },
      "execution_count": 52,
      "outputs": [
        {
          "output_type": "stream",
          "name": "stdout",
          "text": [
            "--- Data Simulasi A/B Test (5 Baris Pertama) ---\n",
            "   user_id    group    revenue\n",
            "0        1  control  13.973713\n",
            "1        2  control   8.893886\n",
            "2        3  control   0.000000\n",
            "3        4  control   0.000000\n",
            "4        5  control   8.126773\n",
            "\n",
            "--- Statistik Ringkasan Per Grup ---\n",
            "         count  mean  std\n",
            "group                    \n",
            "control   5000  2.54  5.7\n",
            "variant   5000  3.24  6.9\n",
            "--------------------------------------------------\n"
          ]
        },
        {
          "output_type": "display_data",
          "data": {
            "text/plain": [
              "<Figure size 1000x600 with 1 Axes>"
            ],
            "image/png": "[encoded data removed]"
          },
          "metadata": {}
        },
        {
          "output_type": "stream",
          "name": "stdout",
          "text": [
            "\n",
            "--- Analisis Metrik Pendapatan (Revenue) ---\n",
            "Rata-rata Pendapatan Kontrol: 2.54\n",
            "Rata-rata Pendapatan Varian: 3.24\n",
            "\n",
            "Hipotesis Nol (H0): Rata-rata pendapatan Varian <= Rata-rata pendapatan Kontrol\n",
            "Hipotesis Alternatif (Ha): Rata-rata pendapatan Varian > Rata-rata pendapatan Kontrol\n",
            "Statistik T (Revenue): 5.6034\n",
            "P-value (Revenue): 0.0000\n",
            "Kesimpulan: P-value (0.0000) < Alpha (0.05), MENOLAK H0.\n",
            "Ada bukti statistik yang signifikan bahwa UI Netflix baru menghasilkan pendapatan rata-rata yang lebih tinggi.\n",
            "--------------------------------------------------\n",
            "\n",
            "--- Analisis Metrik Konversi ---\n",
            "Grup Kontrol: 1110 konversi dari 5000 pengguna (22.20%)\n",
            "Grup Varian: 1193 konversi dari 5000 pengguna (23.86%)\n",
            "\n",
            "Hipotesis Nol (H0): Proporsi konversi Varian <= Proporsi konversi Kontrol\n",
            "Hipotesis Alternatif (Ha): Proporsi konversi Varian > Proporsi konversi Kontrol\n",
            "Statistik Z (Konversi): 1.9714\n",
            "P-value (Konversi): 0.0243\n",
            "Kesimpulan: P-value (0.0243) < Alpha (0.05), MENOLAK H0.\n",
            "Ada bukti statistik yang signifikan bahwa UI Netflix baru menghasilkan tingkat konversi yang lebih tinggi.\n",
            "--------------------------------------------------\n"
          ]
        }
      ]
    },
    {
      "cell_type": "code",
      "source": [
        "df"
      ],
      "metadata": {
        "colab": {
          "base_uri": "https://localhost:8080/",
          "height": 424
        },
        "id": "4z05_HKvPIRv",
        "outputId": "9e54d518-a186-4506-9344-2bcdc86e6fe7"
      },
      "execution_count": 62,
      "outputs": [
        {
          "output_type": "execute_result",
          "data": {
            "text/plain": [
              "      USER_ID VARIANT_NAME  REVENUE\n",
              "0         737      variant      0.0\n",
              "1        2423      control      0.0\n",
              "2        9411      control      0.0\n",
              "3        7311      control      0.0\n",
              "4        6174      variant      0.0\n",
              "...       ...          ...      ...\n",
              "9995     1981      control      0.0\n",
              "9996      502      variant      0.0\n",
              "9997     9214      variant      0.0\n",
              "9998     7741      control      0.0\n",
              "9999     9468      control      0.0\n",
              "\n",
              "[10000 rows x 3 columns]"
            ],
            "text/html": [
              "\n",
              "  <div id=\"df-40a48ed0-d7c3-46cf-b48c-6a2ee657c11c\" class=\"colab-df-container\">\n",
              "    <div>\n",
              "<style scoped>\n",
              "    .dataframe tbody tr th:only-of-type {\n",
              "        vertical-align: middle;\n",
              "    }\n",
              "\n",
              "    .dataframe tbody tr th {\n",
              "        vertical-align: top;\n",
              "    }\n",
              "\n",
              "    .dataframe thead th {\n",
              "        text-align: right;\n",
              "    }\n",
              "</style>\n",
              "<table border=\"1\" class=\"dataframe\">\n",
              "  <thead>\n",
              "    <tr style=\"text-align: right;\">\n",
              "      <th></th>\n",
              "      <th>USER_ID</th>\n",
              "      <th>VARIANT_NAME</th>\n",
              "      <th>REVENUE</th>\n",
              "    </tr>\n",
              "  </thead>\n",
              "  <tbody>\n",
              "    <tr>\n",
              "      <th>0</th>\n",
              "      <td>737</td>\n",
              "      <td>variant</td>\n",
              "      <td>0.0</td>\n",
              "    </tr>\n",
              "    <tr>\n",
              "      <th>1</th>\n",
              "      <td>2423</td>\n",
              "      <td>control</td>\n",
              "      <td>0.0</td>\n",
              "    </tr>\n",
              "    <tr>\n",
              "      <th>2</th>\n",
              "      <td>9411</td>\n",
              "      <td>control</td>\n",
              "      <td>0.0</td>\n",
              "    </tr>\n",
              "    <tr>\n",
              "      <th>3</th>\n",
              "      <td>7311</td>\n",
              "      <td>control</td>\n",
              "      <td>0.0</td>\n",
              "    </tr>\n",
              "    <tr>\n",
              "      <th>4</th>\n",
              "      <td>6174</td>\n",
              "      <td>variant</td>\n",
              "      <td>0.0</td>\n",
              "    </tr>\n",
              "    <tr>\n",
              "      <th>...</th>\n",
              "      <td>...</td>\n",
              "      <td>...</td>\n",
              "      <td>...</td>\n",
              "    </tr>\n",
              "    <tr>\n",
              "      <th>9995</th>\n",
              "      <td>1981</td>\n",
              "      <td>control</td>\n",
              "      <td>0.0</td>\n",
              "    </tr>\n",
              "    <tr>\n",
              "      <th>9996</th>\n",
              "      <td>502</td>\n",
              "      <td>variant</td>\n",
              "      <td>0.0</td>\n",
              "    </tr>\n",
              "    <tr>\n",
              "      <th>9997</th>\n",
              "      <td>9214</td>\n",
              "      <td>variant</td>\n",
              "      <td>0.0</td>\n",
              "    </tr>\n",
              "    <tr>\n",
              "      <th>9998</th>\n",
              "      <td>7741</td>\n",
              "      <td>control</td>\n",
              "      <td>0.0</td>\n",
              "    </tr>\n",
              "    <tr>\n",
              "      <th>9999</th>\n",
              "      <td>9468</td>\n",
              "      <td>control</td>\n",
              "      <td>0.0</td>\n",
              "    </tr>\n",
              "  </tbody>\n",
              "</table>\n",
              "<p>10000 rows × 3 columns</p>\n",
              "</div>\n",
              "    <div class=\"colab-df-buttons\">\n",
              "\n",
              "  <div class=\"colab-df-container\">\n",
              "    <button class=\"colab-df-convert\" onclick=\"convertToInteractive('df-40a48ed0-d7c3-46cf-b48c-6a2ee657c11c')\"\n",
              "            title=\"Convert this dataframe to an interactive table.\"\n",
              "            style=\"display:none;\">\n",
              "\n",
              "  <svg xmlns=\"http://www.w3.org/2000/svg\" height=\"24px\" viewBox=\"0 -960 960 960\">\n",
              "    <path d=\"M120-120v-720h720v720H120Zm60-500h600v-160H180v160Zm220 220h160v-160H400v160Zm0 220h160v-160H400v160ZM180-400h160v-160H180v160Zm440 0h160v-160H620v160ZM180-180h160v-160H180v160Zm440 0h160v-160H620v160Z\"/>\n",
              "  </svg>\n",
              "    </button>\n",
              "\n",
              "  <style>\n",
              "    .colab-df-container {\n",
              "      display:flex;\n",
              "      gap: 12px;\n",
              "    }\n",
              "\n",
              "    .colab-df-convert {\n",
              "      background-color: #E8F0FE;\n",
              "      border: none;\n",
              "      border-radius: 50%;\n",
              "      cursor: pointer;\n",
              "      display: none;\n",
              "      fill: #1967D2;\n",
              "      height: 32px;\n",
              "      padding: 0 0 0 0;\n",
              "      width: 32px;\n",
              "    }\n",
              "\n",
              "    .colab-df-convert:hover {\n",
              "      background-color: #E2EBFA;\n",
              "      box-shadow: 0px 1px 2px rgba(60, 64, 67, 0.3), 0px 1px 3px 1px rgba(60, 64, 67, 0.15);\n",
              "      fill: #174EA6;\n",
              "    }\n",
              "\n",
              "    .colab-df-buttons div {\n",
              "      margin-bottom: 4px;\n",
              "    }\n",
              "\n",
              "    [theme=dark] .colab-df-convert {\n",
              "      background-color: #3B4455;\n",
              "      fill: #D2E3FC;\n",
              "    }\n",
              "\n",
              "    [theme=dark] .colab-df-convert:hover {\n",
              "      background-color: #434B5C;\n",
              "      box-shadow: 0px 1px 3px 1px rgba(0, 0, 0, 0.15);\n",
              "      filter: drop-shadow(0px 1px 2px rgba(0, 0, 0, 0.3));\n",
              "      fill: #FFFFFF;\n",
              "    }\n",
              "  </style>\n",
              "\n",
              "    <script>\n",
              "      const buttonEl =\n",
              "        document.querySelector('#df-40a48ed0-d7c3-46cf-b48c-6a2ee657c11c button.colab-df-convert');\n",
              "      buttonEl.style.display =\n",
              "        google.colab.kernel.accessAllowed ? 'block' : 'none';\n",
              "\n",
              "      async function convertToInteractive(key) {\n",
              "        const element = document.querySelector('#df-40a48ed0-d7c3-46cf-b48c-6a2ee657c11c');\n",
              "        const dataTable =\n",
              "          await google.colab.kernel.invokeFunction('convertToInteractive',\n",
              "                                                    [key], {});\n",
              "        if (!dataTable) return;\n",
              "\n",
              "        const docLinkHtml = 'Like what you see? Visit the ' +\n",
              "          '<a target=\"_blank\" href=https://colab.research.google.com/notebooks/data_table.ipynb>data table notebook</a>'\n",
              "          + ' to learn more about interactive tables.';\n",
              "        element.innerHTML = '';\n",
              "        dataTable['output_type'] = 'display_data';\n",
              "        await google.colab.output.renderOutput(dataTable, element);\n",
              "        const docLink = document.createElement('div');\n",
              "        docLink.innerHTML = docLinkHtml;\n",
              "        element.appendChild(docLink);\n",
              "      }\n",
              "    </script>\n",
              "  </div>\n",
              "\n",
              "\n",
              "    <div id=\"df-9aedd626-0a66-48a1-8fd6-be89aa90dd09\">\n",
              "      <button class=\"colab-df-quickchart\" onclick=\"quickchart('df-9aedd626-0a66-48a1-8fd6-be89aa90dd09')\"\n",
              "                title=\"Suggest charts\"\n",
              "                style=\"display:none;\">\n",
              "\n",
              "<svg xmlns=\"http://www.w3.org/2000/svg\" height=\"24px\"viewBox=\"0 0 24 24\"\n",
              "     width=\"24px\">\n",
              "    <g>\n",
              "        <path d=\"M19 3H5c-1.1 0-2 .9-2 2v14c0 1.1.9 2 2 2h14c1.1 0 2-.9 2-2V5c0-1.1-.9-2-2-2zM9 17H7v-7h2v7zm4 0h-2V7h2v10zm4 0h-2v-4h2v4z\"/>\n",
              "    </g>\n",
              "</svg>\n",
              "      </button>\n",
              "\n",
              "<style>\n",
              "  .colab-df-quickchart {\n",
              "      --bg-color: #E8F0FE;\n",
              "      --fill-color: #1967D2;\n",
              "      --hover-bg-color: #E2EBFA;\n",
              "      --hover-fill-color: #174EA6;\n",
              "      --disabled-fill-color: #AAA;\n",
              "      --disabled-bg-color: #DDD;\n",
              "  }\n",
              "\n",
              "  [theme=dark] .colab-df-quickchart {\n",
              "      --bg-color: #3B4455;\n",
              "      --fill-color: #D2E3FC;\n",
              "      --hover-bg-color: #434B5C;\n",
              "      --hover-fill-color: #FFFFFF;\n",
              "      --disabled-bg-color: #3B4455;\n",
              "      --disabled-fill-color: #666;\n",
              "  }\n",
              "\n",
              "  .colab-df-quickchart {\n",
              "    background-color: var(--bg-color);\n",
              "    border: none;\n",
              "    border-radius: 50%;\n",
              "    cursor: pointer;\n",
              "    display: none;\n",
              "    fill: var(--fill-color);\n",
              "    height: 32px;\n",
              "    padding: 0;\n",
              "    width: 32px;\n",
              "  }\n",
              "\n",
              "  .colab-df-quickchart:hover {\n",
              "    background-color: var(--hover-bg-color);\n",
              "    box-shadow: 0 1px 2px rgba(60, 64, 67, 0.3), 0 1px 3px 1px rgba(60, 64, 67, 0.15);\n",
              "    fill: var(--button-hover-fill-color);\n",
              "  }\n",
              "\n",
              "  .colab-df-quickchart-complete:disabled,\n",
              "  .colab-df-quickchart-complete:disabled:hover {\n",
              "    background-color: var(--disabled-bg-color);\n",
              "    fill: var(--disabled-fill-color);\n",
              "    box-shadow: none;\n",
              "  }\n",
              "\n",
              "  .colab-df-spinner {\n",
              "    border: 2px solid var(--fill-color);\n",
              "    border-color: transparent;\n",
              "    border-bottom-color: var(--fill-color);\n",
              "    animation:\n",
              "      spin 1s steps(1) infinite;\n",
              "  }\n",
              "\n",
              "  @keyframes spin {\n",
              "    0% {\n",
              "      border-color: transparent;\n",
              "      border-bottom-color: var(--fill-color);\n",
              "      border-left-color: var(--fill-color);\n",
              "    }\n",
              "    20% {\n",
              "      border-color: transparent;\n",
              "      border-left-color: var(--fill-color);\n",
              "      border-top-color: var(--fill-color);\n",
              "    }\n",
              "    30% {\n",
              "      border-color: transparent;\n",
              "      border-left-color: var(--fill-color);\n",
              "      border-top-color: var(--fill-color);\n",
              "      border-right-color: var(--fill-color);\n",
              "    }\n",
              "    40% {\n",
              "      border-color: transparent;\n",
              "      border-right-color: var(--fill-color);\n",
              "      border-top-color: var(--fill-color);\n",
              "    }\n",
              "    60% {\n",
              "      border-color: transparent;\n",
              "      border-right-color: var(--fill-color);\n",
              "    }\n",
              "    80% {\n",
              "      border-color: transparent;\n",
              "      border-right-color: var(--fill-color);\n",
              "      border-bottom-color: var(--fill-color);\n",
              "    }\n",
              "    90% {\n",
              "      border-color: transparent;\n",
              "      border-bottom-color: var(--fill-color);\n",
              "    }\n",
              "  }\n",
              "</style>\n",
              "\n",
              "      <script>\n",
              "        async function quickchart(key) {\n",
              "          const quickchartButtonEl =\n",
              "            document.querySelector('#' + key + ' button');\n",
              "          quickchartButtonEl.disabled = true;  // To prevent multiple clicks.\n",
              "          quickchartButtonEl.classList.add('colab-df-spinner');\n",
              "          try {\n",
              "            const charts = await google.colab.kernel.invokeFunction(\n",
              "                'suggestCharts', [key], {});\n",
              "          } catch (error) {\n",
              "            console.error('Error during call to suggestCharts:', error);\n",
              "          }\n",
              "          quickchartButtonEl.classList.remove('colab-df-spinner');\n",
              "          quickchartButtonEl.classList.add('colab-df-quickchart-complete');\n",
              "        }\n",
              "        (() => {\n",
              "          let quickchartButtonEl =\n",
              "            document.querySelector('#df-9aedd626-0a66-48a1-8fd6-be89aa90dd09 button');\n",
              "          quickchartButtonEl.style.display =\n",
              "            google.colab.kernel.accessAllowed ? 'block' : 'none';\n",
              "        })();\n",
              "      </script>\n",
              "    </div>\n",
              "\n",
              "  <div id=\"id_43bda4e7-6735-41f7-9c3b-3b54fb63f3e3\">\n",
              "    <style>\n",
              "      .colab-df-generate {\n",
              "        background-color: #E8F0FE;\n",
              "        border: none;\n",
              "        border-radius: 50%;\n",
              "        cursor: pointer;\n",
              "        display: none;\n",
              "        fill: #1967D2;\n",
              "        height: 32px;\n",
              "        padding: 0 0 0 0;\n",
              "        width: 32px;\n",
              "      }\n",
              "\n",
              "      .colab-df-generate:hover {\n",
              "        background-color: #E2EBFA;\n",
              "        box-shadow: 0px 1px 2px rgba(60, 64, 67, 0.3), 0px 1px 3px 1px rgba(60, 64, 67, 0.15);\n",
              "        fill: #174EA6;\n",
              "      }\n",
              "\n",
              "      [theme=dark] .colab-df-generate {\n",
              "        background-color: #3B4455;\n",
              "        fill: #D2E3FC;\n",
              "      }\n",
              "\n",
              "      [theme=dark] .colab-df-generate:hover {\n",
              "        background-color: #434B5C;\n",
              "        box-shadow: 0px 1px 3px 1px rgba(0, 0, 0, 0.15);\n",
              "        filter: drop-shadow(0px 1px 2px rgba(0, 0, 0, 0.3));\n",
              "        fill: #FFFFFF;\n",
              "      }\n",
              "    </style>\n",
              "    <button class=\"colab-df-generate\" onclick=\"generateWithVariable('df')\"\n",
              "            title=\"Generate code using this dataframe.\"\n",
              "            style=\"display:none;\">\n",
              "\n",
              "  <svg xmlns=\"http://www.w3.org/2000/svg\" height=\"24px\"viewBox=\"0 0 24 24\"\n",
              "       width=\"24px\">\n",
              "    <path d=\"M7,19H8.4L18.45,9,17,7.55,7,17.6ZM5,21V16.75L18.45,3.32a2,2,0,0,1,2.83,0l1.4,1.43a1.91,1.91,0,0,1,.58,1.4,1.91,1.91,0,0,1-.58,1.4L9.25,21ZM18.45,9,17,7.55Zm-12,3A5.31,5.31,0,0,0,4.9,8.1,5.31,5.31,0,0,0,1,6.5,5.31,5.31,0,0,0,4.9,4.9,5.31,5.31,0,0,0,6.5,1,5.31,5.31,0,0,0,8.1,4.9,5.31,5.31,0,0,0,12,6.5,5.46,5.46,0,0,0,6.5,12Z\"/>\n",
              "  </svg>\n",
              "    </button>\n",
              "    <script>\n",
              "      (() => {\n",
              "      const buttonEl =\n",
              "        document.querySelector('#id_43bda4e7-6735-41f7-9c3b-3b54fb63f3e3 button.colab-df-generate');\n",
              "      buttonEl.style.display =\n",
              "        google.colab.kernel.accessAllowed ? 'block' : 'none';\n",
              "\n",
              "      buttonEl.onclick = () => {\n",
              "        google.colab.notebook.generateWithVariable('df');\n",
              "      }\n",
              "      })();\n",
              "    </script>\n",
              "  </div>\n",
              "\n",
              "    </div>\n",
              "  </div>\n"
            ],
            "application/vnd.google.colaboratory.intrinsic+json": {
              "type": "dataframe",
              "variable_name": "df",
              "summary": "{\n  \"name\": \"df\",\n  \"rows\": 10000,\n  \"fields\": [\n    {\n      \"column\": \"USER_ID\",\n      \"properties\": {\n        \"dtype\": \"number\",\n        \"std\": 2890,\n        \"min\": 2,\n        \"max\": 10000,\n        \"num_unique_values\": 6324,\n        \"samples\": [\n          2159,\n          5040,\n          418\n        ],\n        \"semantic_type\": \"\",\n        \"description\": \"\"\n      }\n    },\n    {\n      \"column\": \"VARIANT_NAME\",\n      \"properties\": {\n        \"dtype\": \"category\",\n        \"num_unique_values\": 2,\n        \"samples\": [\n          \"control\",\n          \"variant\"\n        ],\n        \"semantic_type\": \"\",\n        \"description\": \"\"\n      }\n    },\n    {\n      \"column\": \"REVENUE\",\n      \"properties\": {\n        \"dtype\": \"number\",\n        \"std\": 2.3185286544931945,\n        \"min\": 0.0,\n        \"max\": 196.01,\n        \"num_unique_values\": 101,\n        \"samples\": [\n          1.3,\n          3.97\n        ],\n        \"semantic_type\": \"\",\n        \"description\": \"\"\n      }\n    }\n  ]\n}"
            }
          },
          "metadata": {},
          "execution_count": 62
        }
      ]
    },
    {
      "cell_type": "code",
      "source": [
        "sns.get_dataset_names()"
      ],
      "metadata": {
        "colab": {
          "base_uri": "https://localhost:8080/"
        },
        "id": "bNXjwrHkN4HG",
        "outputId": "fc269d65-1960-43f3-8ffd-5ac9d79755f4"
      },
      "execution_count": 53,
      "outputs": [
        {
          "output_type": "execute_result",
          "data": {
            "text/plain": [
              "['anagrams',\n",
              " 'anscombe',\n",
              " 'attention',\n",
              " 'brain_networks',\n",
              " 'car_crashes',\n",
              " 'diamonds',\n",
              " 'dots',\n",
              " 'dowjones',\n",
              " 'exercise',\n",
              " 'flights',\n",
              " 'fmri',\n",
              " 'geyser',\n",
              " 'glue',\n",
              " 'healthexp',\n",
              " 'iris',\n",
              " 'mpg',\n",
              " 'penguins',\n",
              " 'planets',\n",
              " 'seaice',\n",
              " 'taxis',\n",
              " 'tips',\n",
              " 'titanic']"
            ]
          },
          "metadata": {},
          "execution_count": 53
        }
      ]
    },
    {
      "cell_type": "code",
      "source": [
        "import pandas as pd\n",
        "import numpy as np\n",
        "import seaborn as sns\n",
        "import matplotlib.pyplot as plt\n",
        "from scipy import stats\n",
        "from statsmodels.stats.proportion import proportions_ztest # Untuk perbandingan 2 proporsi, jika dibutuhkan\n",
        "from scipy.stats import chi2_contingency # Untuk perbandingan >2 proporsi (atau asosiasi antar kategori)\n",
        "\n",
        "# --- 1. Memuat Dataset Titanic ---\n",
        "# Memuat dataset Titanic yang tersedia di Seaborn\n",
        "titanic = sns.load_dataset(\"titanic\")\n",
        "\n",
        "print(\"--- 5 Baris Pertama Dataset Titanic ---\")\n",
        "print(titanic.head())\n",
        "print(\"\\n--- Informasi Dataset ---\")\n",
        "titanic.info()\n",
        "print(\"-\" * 50)\n",
        "\n",
        "# --- 2. Memilih Metrik ---\n",
        "# Metrik utama yang ingin kita analisis adalah tingkat kelangsungan hidup (Survived).\n",
        "# Kita ingin melihat bagaimana metrik ini bervariasi berdasarkan 'pclass' (kelas penumpang).\n",
        "\n",
        "# Kolom 'survived' adalah 0 (tidak selamat) dan 1 (selamat)\n",
        "# Kolom 'pclass' adalah 1, 2, 3 (kelas pertama, kedua, ketiga)\n",
        "\n",
        "# --- 3. Membangun Hipotesis ---\n",
        "# Kita ingin menguji apakah ada hubungan (asosiasi) antara 'pclass' dan 'survived'.\n",
        "\n",
        "# Hipotesis Nol (H0): Tidak ada hubungan yang signifikan (independen) antara kelas penumpang (pclass) dan kelangsungan hidup (survived).\n",
        "# Hipotesis Alternatif (Ha): Ada hubungan yang signifikan (tidak independen) antara kelas penumpang (pclass) dan kelangsungan hidup (survived).\n",
        "\n",
        "# Tingkat Signifikansi (Alpha) yang umum digunakan\n",
        "alpha = 0.05 # 5%\n",
        "\n",
        "# --- 4. Memilih Uji Statistik yang Sesuai ---\n",
        "# Karena kita membandingkan dua variabel kategorikal ('pclass' dan 'survived'),\n",
        "# dan kita ingin mengetahui apakah ada asosiasi di antara keduanya,\n",
        "# Uji Chi-squared untuk Independensi (Chi-squared Test for Independence) adalah uji yang paling tepat.\n",
        "\n",
        "print(\"\\n--- Statistik Ringkasan: Tingkat Kelangsungan Hidup per Kelas Penumpang ---\")\n",
        "survival_by_pclass = titanic.groupby('pclass')['survived'].value_counts(normalize=True).unstack()\n",
        "print(survival_by_pclass.round(4) * 100) # Tampilkan dalam persentase\n",
        "print(\"-\" * 50)\n",
        "\n",
        "# --- Visualisasi untuk Insight Awal ---\n",
        "plt.figure(figsize=(8, 5))\n",
        "sns.barplot(data=titanic, x='pclass', y='survived', errorbar=None, palette='viridis')\n",
        "plt.title('Tingkat Kelangsungan Hidup Rata-rata Berdasarkan Kelas Penumpang')\n",
        "plt.xlabel('Kelas Penumpang (Pclass)')\n",
        "plt.ylabel('Tingkat Kelangsungan Hidup')\n",
        "plt.xticks([0, 1, 2], ['Kelas 1', 'Kelas 2', 'Kelas 3'])\n",
        "plt.grid(axis='y', linestyle='--', alpha=0.7)\n",
        "plt.show()\n",
        "\n",
        "\n",
        "print(\"\\n--- Melakukan Uji Chi-squared untuk Independensi ---\")\n",
        "\n",
        "# Buat tabel kontingensi (contingency table) dari 'pclass' dan 'survived'\n",
        "contingency_table = pd.crosstab(titanic['pclass'], titanic['survived'])\n",
        "print(\"Tabel Kontingensi (Pclass vs. Survived):\\n\", contingency_table)\n",
        "\n",
        "# Lakukan Uji Chi-squared\n",
        "# chi2: statistik chi-squared\n",
        "# p: p-value\n",
        "# dof: degrees of freedom\n",
        "# expected: tabel frekuensi yang diharapkan jika H0 benar\n",
        "chi2_stat, p_value_chi2, dof, expected_freq = chi2_contingency(contingency_table)\n",
        "\n",
        "print(f\"\\nStatistik Chi-squared: {chi2_stat:.4f}\")\n",
        "print(f\"P-value: {p_value_chi2:.4f}\")\n",
        "\n",
        "# --- Interpretasi Hasil ---\n",
        "if p_value_chi2 < alpha:\n",
        "    print(f\"\\nKesimpulan: Karena P-value ({p_value_chi2:.4f}) < Alpha ({alpha}), MENOLAK H0.\")\n",
        "    print(\"Ada bukti statistik yang signifikan bahwa ada hubungan (asosiasi) antara kelas penumpang dan kelangsungan hidup.\")\n",
        "    print(\"Dengan kata lain, tingkat kelangsungan hidup TIDAK independen dari kelas penumpang.\")\n",
        "else:\n",
        "    print(f\"\\nKesimpulan: Karena P-value ({p_value_chi2:.4f}) >= Alpha ({alpha}), GAGAL MENOLAK H0.\")\n",
        "    print(\"Tidak ada bukti statistik yang signifikan untuk menyatakan bahwa ada hubungan antara kelas penumpang dan kelangsungan hidup.\")\n",
        "    print(\"Dengan kata lain, tingkat kelangsungan hidup mungkin independen dari kelas penumpang.\")\n",
        "\n",
        "print(\"-\" * 50)"
      ],
      "metadata": {
        "colab": {
          "base_uri": "https://localhost:8080/",
          "height": 1000
        },
        "id": "LdiWGU5sOTgy",
        "outputId": "d0b71138-2e48-4a61-99a1-b28bc7079bff"
      },
      "execution_count": 55,
      "outputs": [
        {
          "output_type": "stream",
          "name": "stdout",
          "text": [
            "--- 5 Baris Pertama Dataset Titanic ---\n",
            "   survived  pclass     sex   age  sibsp  parch     fare embarked  class  \\\n",
            "0         0       3    male  22.0      1      0   7.2500        S  Third   \n",
            "1         1       1  female  38.0      1      0  71.2833        C  First   \n",
            "2         1       3  female  26.0      0      0   7.9250        S  Third   \n",
            "3         1       1  female  35.0      1      0  53.1000        S  First   \n",
            "4         0       3    male  35.0      0      0   8.0500        S  Third   \n",
            "\n",
            "     who  adult_male deck  embark_town alive  alone  \n",
            "0    man        True  NaN  Southampton    no  False  \n",
            "1  woman       False    C    Cherbourg   yes  False  \n",
            "2  woman       False  NaN  Southampton   yes   True  \n",
            "3  woman       False    C  Southampton   yes  False  \n",
            "4    man        True  NaN  Southampton    no   True  \n",
            "\n",
            "--- Informasi Dataset ---\n",
            "<class 'pandas.core.frame.DataFrame'>\n",
            "RangeIndex: 891 entries, 0 to 890\n",
            "Data columns (total 15 columns):\n",
            " #   Column       Non-Null Count  Dtype   \n",
            "---  ------       --------------  -----   \n",
            " 0   survived     891 non-null    int64   \n",
            " 1   pclass       891 non-null    int64   \n",
            " 2   sex          891 non-null    object  \n",
            " 3   age          714 non-null    float64 \n",
            " 4   sibsp        891 non-null    int64   \n",
            " 5   parch        891 non-null    int64   \n",
            " 6   fare         891 non-null    float64 \n",
            " 7   embarked     889 non-null    object  \n",
            " 8   class        891 non-null    category\n",
            " 9   who          891 non-null    object  \n",
            " 10  adult_male   891 non-null    bool    \n",
            " 11  deck         203 non-null    category\n",
            " 12  embark_town  889 non-null    object  \n",
            " 13  alive        891 non-null    object  \n",
            " 14  alone        891 non-null    bool    \n",
            "dtypes: bool(2), category(2), float64(2), int64(4), object(5)\n",
            "memory usage: 80.7+ KB\n",
            "--------------------------------------------------\n",
            "\n",
            "--- Statistik Ringkasan: Tingkat Kelangsungan Hidup per Kelas Penumpang ---\n",
            "survived      0      1\n",
            "pclass                \n",
            "1         37.04  62.96\n",
            "2         52.72  47.28\n",
            "3         75.76  24.24\n",
            "--------------------------------------------------\n"
          ]
        },
        {
          "output_type": "stream",
          "name": "stderr",
          "text": [
            "/tmp/ipython-input-55-2480299257.py:47: FutureWarning: \n",
            "\n",
            "Passing `palette` without assigning `hue` is deprecated and will be removed in v0.14.0. Assign the `x` variable to `hue` and set `legend=False` for the same effect.\n",
            "\n",
            "  sns.barplot(data=titanic, x='pclass', y='survived', errorbar=None, palette='viridis')\n"
          ]
        },
        {
          "output_type": "display_data",
          "data": {
            "text/plain": [
              "<Figure size 800x500 with 1 Axes>"
            ],
            "image/png": "[encoded data removed]"
          },
          "metadata": {}
        },
        {
          "output_type": "stream",
          "name": "stdout",
          "text": [
            "\n",
            "--- Melakukan Uji Chi-squared untuk Independensi ---\n",
            "Tabel Kontingensi (Pclass vs. Survived):\n",
            " survived    0    1\n",
            "pclass            \n",
            "1          80  136\n",
            "2          97   87\n",
            "3         372  119\n",
            "\n",
            "Statistik Chi-squared: 102.8890\n",
            "P-value: 0.0000\n",
            "\n",
            "Kesimpulan: Karena P-value (0.0000) < Alpha (0.05), MENOLAK H0.\n",
            "Ada bukti statistik yang signifikan bahwa ada hubungan (asosiasi) antara kelas penumpang dan kelangsungan hidup.\n",
            "Dengan kata lain, tingkat kelangsungan hidup TIDAK independen dari kelas penumpang.\n",
            "--------------------------------------------------\n"
          ]
        }
      ]
    },
    {
      "cell_type": "code",
      "source": [
        "sns.load_dataset(\"titanic\")"
      ],
      "metadata": {
        "colab": {
          "base_uri": "https://localhost:8080/",
          "height": 424
        },
        "id": "etS9SYjsOYSD",
        "outputId": "260642e3-6371-4c85-f1b0-534821b81b89"
      },
      "execution_count": 56,
      "outputs": [
        {
          "output_type": "execute_result",
          "data": {
            "text/plain": [
              "     survived  pclass     sex   age  sibsp  parch     fare embarked   class  \\\n",
              "0           0       3    male  22.0      1      0   7.2500        S   Third   \n",
              "1           1       1  female  38.0      1      0  71.2833        C   First   \n",
              "2           1       3  female  26.0      0      0   7.9250        S   Third   \n",
              "3           1       1  female  35.0      1      0  53.1000        S   First   \n",
              "4           0       3    male  35.0      0      0   8.0500        S   Third   \n",
              "..        ...     ...     ...   ...    ...    ...      ...      ...     ...   \n",
              "886         0       2    male  27.0      0      0  13.0000        S  Second   \n",
              "887         1       1  female  19.0      0      0  30.0000        S   First   \n",
              "888         0       3  female   NaN      1      2  23.4500        S   Third   \n",
              "889         1       1    male  26.0      0      0  30.0000        C   First   \n",
              "890         0       3    male  32.0      0      0   7.7500        Q   Third   \n",
              "\n",
              "       who  adult_male deck  embark_town alive  alone  \n",
              "0      man        True  NaN  Southampton    no  False  \n",
              "1    woman       False    C    Cherbourg   yes  False  \n",
              "2    woman       False  NaN  Southampton   yes   True  \n",
              "3    woman       False    C  Southampton   yes  False  \n",
              "4      man        True  NaN  Southampton    no   True  \n",
              "..     ...         ...  ...          ...   ...    ...  \n",
              "886    man        True  NaN  Southampton    no   True  \n",
              "887  woman       False    B  Southampton   yes   True  \n",
              "888  woman       False  NaN  Southampton    no  False  \n",
              "889    man        True    C    Cherbourg   yes   True  \n",
              "890    man        True  NaN   Queenstown    no   True  \n",
              "\n",
              "[891 rows x 15 columns]"
            ],
            "text/html": [
              "\n",
              "  <div id=\"df-7131a648-d2a6-46b5-9fff-3c7f41511ab1\" class=\"colab-df-container\">\n",
              "    <div>\n",
              "<style scoped>\n",
              "    .dataframe tbody tr th:only-of-type {\n",
              "        vertical-align: middle;\n",
              "    }\n",
              "\n",
              "    .dataframe tbody tr th {\n",
              "        vertical-align: top;\n",
              "    }\n",
              "\n",
              "    .dataframe thead th {\n",
              "        text-align: right;\n",
              "    }\n",
              "</style>\n",
              "<table border=\"1\" class=\"dataframe\">\n",
              "  <thead>\n",
              "    <tr style=\"text-align: right;\">\n",
              "      <th></th>\n",
              "      <th>survived</th>\n",
              "      <th>pclass</th>\n",
              "      <th>sex</th>\n",
              "      <th>age</th>\n",
              "      <th>sibsp</th>\n",
              "      <th>parch</th>\n",
              "      <th>fare</th>\n",
              "      <th>embarked</th>\n",
              "      <th>class</th>\n",
              "      <th>who</th>\n",
              "      <th>adult_male</th>\n",
              "      <th>deck</th>\n",
              "      <th>embark_town</th>\n",
              "      <th>alive</th>\n",
              "      <th>alone</th>\n",
              "    </tr>\n",
              "  </thead>\n",
              "  <tbody>\n",
              "    <tr>\n",
              "      <th>0</th>\n",
              "      <td>0</td>\n",
              "      <td>3</td>\n",
              "      <td>male</td>\n",
              "      <td>22.0</td>\n",
              "      <td>1</td>\n",
              "      <td>0</td>\n",
              "      <td>7.2500</td>\n",
              "      <td>S</td>\n",
              "      <td>Third</td>\n",
              "      <td>man</td>\n",
              "      <td>True</td>\n",
              "      <td>NaN</td>\n",
              "      <td>Southampton</td>\n",
              "      <td>no</td>\n",
              "      <td>False</td>\n",
              "    </tr>\n",
              "    <tr>\n",
              "      <th>1</th>\n",
              "      <td>1</td>\n",
              "      <td>1</td>\n",
              "      <td>female</td>\n",
              "      <td>38.0</td>\n",
              "      <td>1</td>\n",
              "      <td>0</td>\n",
              "      <td>71.2833</td>\n",
              "      <td>C</td>\n",
              "      <td>First</td>\n",
              "      <td>woman</td>\n",
              "      <td>False</td>\n",
              "      <td>C</td>\n",
              "      <td>Cherbourg</td>\n",
              "      <td>yes</td>\n",
              "      <td>False</td>\n",
              "    </tr>\n",
              "    <tr>\n",
              "      <th>2</th>\n",
              "      <td>1</td>\n",
              "      <td>3</td>\n",
              "      <td>female</td>\n",
              "      <td>26.0</td>\n",
              "      <td>0</td>\n",
              "      <td>0</td>\n",
              "      <td>7.9250</td>\n",
              "      <td>S</td>\n",
              "      <td>Third</td>\n",
              "      <td>woman</td>\n",
              "      <td>False</td>\n",
              "      <td>NaN</td>\n",
              "      <td>Southampton</td>\n",
              "      <td>yes</td>\n",
              "      <td>True</td>\n",
              "    </tr>\n",
              "    <tr>\n",
              "      <th>3</th>\n",
              "      <td>1</td>\n",
              "      <td>1</td>\n",
              "      <td>female</td>\n",
              "      <td>35.0</td>\n",
              "      <td>1</td>\n",
              "      <td>0</td>\n",
              "      <td>53.1000</td>\n",
              "      <td>S</td>\n",
              "      <td>First</td>\n",
              "      <td>woman</td>\n",
              "      <td>False</td>\n",
              "      <td>C</td>\n",
              "      <td>Southampton</td>\n",
              "      <td>yes</td>\n",
              "      <td>False</td>\n",
              "    </tr>\n",
              "    <tr>\n",
              "      <th>4</th>\n",
              "      <td>0</td>\n",
              "      <td>3</td>\n",
              "      <td>male</td>\n",
              "      <td>35.0</td>\n",
              "      <td>0</td>\n",
              "      <td>0</td>\n",
              "      <td>8.0500</td>\n",
              "      <td>S</td>\n",
              "      <td>Third</td>\n",
              "      <td>man</td>\n",
              "      <td>True</td>\n",
              "      <td>NaN</td>\n",
              "      <td>Southampton</td>\n",
              "      <td>no</td>\n",
              "      <td>True</td>\n",
              "    </tr>\n",
              "    <tr>\n",
              "      <th>...</th>\n",
              "      <td>...</td>\n",
              "      <td>...</td>\n",
              "      <td>...</td>\n",
              "      <td>...</td>\n",
              "      <td>...</td>\n",
              "      <td>...</td>\n",
              "      <td>...</td>\n",
              "      <td>...</td>\n",
              "      <td>...</td>\n",
              "      <td>...</td>\n",
              "      <td>...</td>\n",
              "      <td>...</td>\n",
              "      <td>...</td>\n",
              "      <td>...</td>\n",
              "      <td>...</td>\n",
              "    </tr>\n",
              "    <tr>\n",
              "      <th>886</th>\n",
              "      <td>0</td>\n",
              "      <td>2</td>\n",
              "      <td>male</td>\n",
              "      <td>27.0</td>\n",
              "      <td>0</td>\n",
              "      <td>0</td>\n",
              "      <td>13.0000</td>\n",
              "      <td>S</td>\n",
              "      <td>Second</td>\n",
              "      <td>man</td>\n",
              "      <td>True</td>\n",
              "      <td>NaN</td>\n",
              "      <td>Southampton</td>\n",
              "      <td>no</td>\n",
              "      <td>True</td>\n",
              "    </tr>\n",
              "    <tr>\n",
              "      <th>887</th>\n",
              "      <td>1</td>\n",
              "      <td>1</td>\n",
              "      <td>female</td>\n",
              "      <td>19.0</td>\n",
              "      <td>0</td>\n",
              "      <td>0</td>\n",
              "      <td>30.0000</td>\n",
              "      <td>S</td>\n",
              "      <td>First</td>\n",
              "      <td>woman</td>\n",
              "      <td>False</td>\n",
              "      <td>B</td>\n",
              "      <td>Southampton</td>\n",
              "      <td>yes</td>\n",
              "      <td>True</td>\n",
              "    </tr>\n",
              "    <tr>\n",
              "      <th>888</th>\n",
              "      <td>0</td>\n",
              "      <td>3</td>\n",
              "      <td>female</td>\n",
              "      <td>NaN</td>\n",
              "      <td>1</td>\n",
              "      <td>2</td>\n",
              "      <td>23.4500</td>\n",
              "      <td>S</td>\n",
              "      <td>Third</td>\n",
              "      <td>woman</td>\n",
              "      <td>False</td>\n",
              "      <td>NaN</td>\n",
              "      <td>Southampton</td>\n",
              "      <td>no</td>\n",
              "      <td>False</td>\n",
              "    </tr>\n",
              "    <tr>\n",
              "      <th>889</th>\n",
              "      <td>1</td>\n",
              "      <td>1</td>\n",
              "      <td>male</td>\n",
              "      <td>26.0</td>\n",
              "      <td>0</td>\n",
              "      <td>0</td>\n",
              "      <td>30.0000</td>\n",
              "      <td>C</td>\n",
              "      <td>First</td>\n",
              "      <td>man</td>\n",
              "      <td>True</td>\n",
              "      <td>C</td>\n",
              "      <td>Cherbourg</td>\n",
              "      <td>yes</td>\n",
              "      <td>True</td>\n",
              "    </tr>\n",
              "    <tr>\n",
              "      <th>890</th>\n",
              "      <td>0</td>\n",
              "      <td>3</td>\n",
              "      <td>male</td>\n",
              "      <td>32.0</td>\n",
              "      <td>0</td>\n",
              "      <td>0</td>\n",
              "      <td>7.7500</td>\n",
              "      <td>Q</td>\n",
              "      <td>Third</td>\n",
              "      <td>man</td>\n",
              "      <td>True</td>\n",
              "      <td>NaN</td>\n",
              "      <td>Queenstown</td>\n",
              "      <td>no</td>\n",
              "      <td>True</td>\n",
              "    </tr>\n",
              "  </tbody>\n",
              "</table>\n",
              "<p>891 rows × 15 columns</p>\n",
              "</div>\n",
              "    <div class=\"colab-df-buttons\">\n",
              "\n",
              "  <div class=\"colab-df-container\">\n",
              "    <button class=\"colab-df-convert\" onclick=\"convertToInteractive('df-7131a648-d2a6-46b5-9fff-3c7f41511ab1')\"\n",
              "            title=\"Convert this dataframe to an interactive table.\"\n",
              "            style=\"display:none;\">\n",
              "\n",
              "  <svg xmlns=\"http://www.w3.org/2000/svg\" height=\"24px\" viewBox=\"0 -960 960 960\">\n",
              "    <path d=\"M120-120v-720h720v720H120Zm60-500h600v-160H180v160Zm220 220h160v-160H400v160Zm0 220h160v-160H400v160ZM180-400h160v-160H180v160Zm440 0h160v-160H620v160ZM180-180h160v-160H180v160Zm440 0h160v-160H620v160Z\"/>\n",
              "  </svg>\n",
              "    </button>\n",
              "\n",
              "  <style>\n",
              "    .colab-df-container {\n",
              "      display:flex;\n",
              "      gap: 12px;\n",
              "    }\n",
              "\n",
              "    .colab-df-convert {\n",
              "      background-color: #E8F0FE;\n",
              "      border: none;\n",
              "      border-radius: 50%;\n",
              "      cursor: pointer;\n",
              "      display: none;\n",
              "      fill: #1967D2;\n",
              "      height: 32px;\n",
              "      padding: 0 0 0 0;\n",
              "      width: 32px;\n",
              "    }\n",
              "\n",
              "    .colab-df-convert:hover {\n",
              "      background-color: #E2EBFA;\n",
              "      box-shadow: 0px 1px 2px rgba(60, 64, 67, 0.3), 0px 1px 3px 1px rgba(60, 64, 67, 0.15);\n",
              "      fill: #174EA6;\n",
              "    }\n",
              "\n",
              "    .colab-df-buttons div {\n",
              "      margin-bottom: 4px;\n",
              "    }\n",
              "\n",
              "    [theme=dark] .colab-df-convert {\n",
              "      background-color: #3B4455;\n",
              "      fill: #D2E3FC;\n",
              "    }\n",
              "\n",
              "    [theme=dark] .colab-df-convert:hover {\n",
              "      background-color: #434B5C;\n",
              "      box-shadow: 0px 1px 3px 1px rgba(0, 0, 0, 0.15);\n",
              "      filter: drop-shadow(0px 1px 2px rgba(0, 0, 0, 0.3));\n",
              "      fill: #FFFFFF;\n",
              "    }\n",
              "  </style>\n",
              "\n",
              "    <script>\n",
              "      const buttonEl =\n",
              "        document.querySelector('#df-7131a648-d2a6-46b5-9fff-3c7f41511ab1 button.colab-df-convert');\n",
              "      buttonEl.style.display =\n",
              "        google.colab.kernel.accessAllowed ? 'block' : 'none';\n",
              "\n",
              "      async function convertToInteractive(key) {\n",
              "        const element = document.querySelector('#df-7131a648-d2a6-46b5-9fff-3c7f41511ab1');\n",
              "        const dataTable =\n",
              "          await google.colab.kernel.invokeFunction('convertToInteractive',\n",
              "                                                    [key], {});\n",
              "        if (!dataTable) return;\n",
              "\n",
              "        const docLinkHtml = 'Like what you see? Visit the ' +\n",
              "          '<a target=\"_blank\" href=https://colab.research.google.com/notebooks/data_table.ipynb>data table notebook</a>'\n",
              "          + ' to learn more about interactive tables.';\n",
              "        element.innerHTML = '';\n",
              "        dataTable['output_type'] = 'display_data';\n",
              "        await google.colab.output.renderOutput(dataTable, element);\n",
              "        const docLink = document.createElement('div');\n",
              "        docLink.innerHTML = docLinkHtml;\n",
              "        element.appendChild(docLink);\n",
              "      }\n",
              "    </script>\n",
              "  </div>\n",
              "\n",
              "\n",
              "    <div id=\"df-b055a081-42f8-4015-a39c-c9672b45e5cd\">\n",
              "      <button class=\"colab-df-quickchart\" onclick=\"quickchart('df-b055a081-42f8-4015-a39c-c9672b45e5cd')\"\n",
              "                title=\"Suggest charts\"\n",
              "                style=\"display:none;\">\n",
              "\n",
              "<svg xmlns=\"http://www.w3.org/2000/svg\" height=\"24px\"viewBox=\"0 0 24 24\"\n",
              "     width=\"24px\">\n",
              "    <g>\n",
              "        <path d=\"M19 3H5c-1.1 0-2 .9-2 2v14c0 1.1.9 2 2 2h14c1.1 0 2-.9 2-2V5c0-1.1-.9-2-2-2zM9 17H7v-7h2v7zm4 0h-2V7h2v10zm4 0h-2v-4h2v4z\"/>\n",
              "    </g>\n",
              "</svg>\n",
              "      </button>\n",
              "\n",
              "<style>\n",
              "  .colab-df-quickchart {\n",
              "      --bg-color: #E8F0FE;\n",
              "      --fill-color: #1967D2;\n",
              "      --hover-bg-color: #E2EBFA;\n",
              "      --hover-fill-color: #174EA6;\n",
              "      --disabled-fill-color: #AAA;\n",
              "      --disabled-bg-color: #DDD;\n",
              "  }\n",
              "\n",
              "  [theme=dark] .colab-df-quickchart {\n",
              "      --bg-color: #3B4455;\n",
              "      --fill-color: #D2E3FC;\n",
              "      --hover-bg-color: #434B5C;\n",
              "      --hover-fill-color: #FFFFFF;\n",
              "      --disabled-bg-color: #3B4455;\n",
              "      --disabled-fill-color: #666;\n",
              "  }\n",
              "\n",
              "  .colab-df-quickchart {\n",
              "    background-color: var(--bg-color);\n",
              "    border: none;\n",
              "    border-radius: 50%;\n",
              "    cursor: pointer;\n",
              "    display: none;\n",
              "    fill: var(--fill-color);\n",
              "    height: 32px;\n",
              "    padding: 0;\n",
              "    width: 32px;\n",
              "  }\n",
              "\n",
              "  .colab-df-quickchart:hover {\n",
              "    background-color: var(--hover-bg-color);\n",
              "    box-shadow: 0 1px 2px rgba(60, 64, 67, 0.3), 0 1px 3px 1px rgba(60, 64, 67, 0.15);\n",
              "    fill: var(--button-hover-fill-color);\n",
              "  }\n",
              "\n",
              "  .colab-df-quickchart-complete:disabled,\n",
              "  .colab-df-quickchart-complete:disabled:hover {\n",
              "    background-color: var(--disabled-bg-color);\n",
              "    fill: var(--disabled-fill-color);\n",
              "    box-shadow: none;\n",
              "  }\n",
              "\n",
              "  .colab-df-spinner {\n",
              "    border: 2px solid var(--fill-color);\n",
              "    border-color: transparent;\n",
              "    border-bottom-color: var(--fill-color);\n",
              "    animation:\n",
              "      spin 1s steps(1) infinite;\n",
              "  }\n",
              "\n",
              "  @keyframes spin {\n",
              "    0% {\n",
              "      border-color: transparent;\n",
              "      border-bottom-color: var(--fill-color);\n",
              "      border-left-color: var(--fill-color);\n",
              "    }\n",
              "    20% {\n",
              "      border-color: transparent;\n",
              "      border-left-color: var(--fill-color);\n",
              "      border-top-color: var(--fill-color);\n",
              "    }\n",
              "    30% {\n",
              "      border-color: transparent;\n",
              "      border-left-color: var(--fill-color);\n",
              "      border-top-color: var(--fill-color);\n",
              "      border-right-color: var(--fill-color);\n",
              "    }\n",
              "    40% {\n",
              "      border-color: transparent;\n",
              "      border-right-color: var(--fill-color);\n",
              "      border-top-color: var(--fill-color);\n",
              "    }\n",
              "    60% {\n",
              "      border-color: transparent;\n",
              "      border-right-color: var(--fill-color);\n",
              "    }\n",
              "    80% {\n",
              "      border-color: transparent;\n",
              "      border-right-color: var(--fill-color);\n",
              "      border-bottom-color: var(--fill-color);\n",
              "    }\n",
              "    90% {\n",
              "      border-color: transparent;\n",
              "      border-bottom-color: var(--fill-color);\n",
              "    }\n",
              "  }\n",
              "</style>\n",
              "\n",
              "      <script>\n",
              "        async function quickchart(key) {\n",
              "          const quickchartButtonEl =\n",
              "            document.querySelector('#' + key + ' button');\n",
              "          quickchartButtonEl.disabled = true;  // To prevent multiple clicks.\n",
              "          quickchartButtonEl.classList.add('colab-df-spinner');\n",
              "          try {\n",
              "            const charts = await google.colab.kernel.invokeFunction(\n",
              "                'suggestCharts', [key], {});\n",
              "          } catch (error) {\n",
              "            console.error('Error during call to suggestCharts:', error);\n",
              "          }\n",
              "          quickchartButtonEl.classList.remove('colab-df-spinner');\n",
              "          quickchartButtonEl.classList.add('colab-df-quickchart-complete');\n",
              "        }\n",
              "        (() => {\n",
              "          let quickchartButtonEl =\n",
              "            document.querySelector('#df-b055a081-42f8-4015-a39c-c9672b45e5cd button');\n",
              "          quickchartButtonEl.style.display =\n",
              "            google.colab.kernel.accessAllowed ? 'block' : 'none';\n",
              "        })();\n",
              "      </script>\n",
              "    </div>\n",
              "\n",
              "    </div>\n",
              "  </div>\n"
            ],
            "application/vnd.google.colaboratory.intrinsic+json": {
              "type": "dataframe",
              "summary": "{\n  \"name\": \"sns\",\n  \"rows\": 891,\n  \"fields\": [\n    {\n      \"column\": \"survived\",\n      \"properties\": {\n        \"dtype\": \"number\",\n        \"std\": 0,\n        \"min\": 0,\n        \"max\": 1,\n        \"num_unique_values\": 2,\n        \"samples\": [\n          1,\n          0\n        ],\n        \"semantic_type\": \"\",\n        \"description\": \"\"\n      }\n    },\n    {\n      \"column\": \"pclass\",\n      \"properties\": {\n        \"dtype\": \"number\",\n        \"std\": 0,\n        \"min\": 1,\n        \"max\": 3,\n        \"num_unique_values\": 3,\n        \"samples\": [\n          3,\n          1\n        ],\n        \"semantic_type\": \"\",\n        \"description\": \"\"\n      }\n    },\n    {\n      \"column\": \"sex\",\n      \"properties\": {\n        \"dtype\": \"category\",\n        \"num_unique_values\": 2,\n        \"samples\": [\n          \"female\",\n          \"male\"\n        ],\n        \"semantic_type\": \"\",\n        \"description\": \"\"\n      }\n    },\n    {\n      \"column\": \"age\",\n      \"properties\": {\n        \"dtype\": \"number\",\n        \"std\": 14.526497332334044,\n        \"min\": 0.42,\n        \"max\": 80.0,\n        \"num_unique_values\": 88,\n        \"samples\": [\n          0.75,\n          22.0\n        ],\n        \"semantic_type\": \"\",\n        \"description\": \"\"\n      }\n    },\n    {\n      \"column\": \"sibsp\",\n      \"properties\": {\n        \"dtype\": \"number\",\n        \"std\": 1,\n        \"min\": 0,\n        \"max\": 8,\n        \"num_unique_values\": 7,\n        \"samples\": [\n          1,\n          0\n        ],\n        \"semantic_type\": \"\",\n        \"description\": \"\"\n      }\n    },\n    {\n      \"column\": \"parch\",\n      \"properties\": {\n        \"dtype\": \"number\",\n        \"std\": 0,\n        \"min\": 0,\n        \"max\": 6,\n        \"num_unique_values\": 7,\n        \"samples\": [\n          0,\n          1\n        ],\n        \"semantic_type\": \"\",\n        \"description\": \"\"\n      }\n    },\n    {\n      \"column\": \"fare\",\n      \"properties\": {\n        \"dtype\": \"number\",\n        \"std\": 49.693428597180905,\n        \"min\": 0.0,\n        \"max\": 512.3292,\n        \"num_unique_values\": 248,\n        \"samples\": [\n          11.2417,\n          51.8625\n        ],\n        \"semantic_type\": \"\",\n        \"description\": \"\"\n      }\n    },\n    {\n      \"column\": \"embarked\",\n      \"properties\": {\n        \"dtype\": \"category\",\n        \"num_unique_values\": 3,\n        \"samples\": [\n          \"S\",\n          \"C\"\n        ],\n        \"semantic_type\": \"\",\n        \"description\": \"\"\n      }\n    },\n    {\n      \"column\": \"class\",\n      \"properties\": {\n        \"dtype\": \"category\",\n        \"num_unique_values\": 3,\n        \"samples\": [\n          \"Third\",\n          \"First\"\n        ],\n        \"semantic_type\": \"\",\n        \"description\": \"\"\n      }\n    },\n    {\n      \"column\": \"who\",\n      \"properties\": {\n        \"dtype\": \"category\",\n        \"num_unique_values\": 3,\n        \"samples\": [\n          \"man\",\n          \"woman\"\n        ],\n        \"semantic_type\": \"\",\n        \"description\": \"\"\n      }\n    },\n    {\n      \"column\": \"adult_male\",\n      \"properties\": {\n        \"dtype\": \"boolean\",\n        \"num_unique_values\": 2,\n        \"samples\": [\n          false,\n          true\n        ],\n        \"semantic_type\": \"\",\n        \"description\": \"\"\n      }\n    },\n    {\n      \"column\": \"deck\",\n      \"properties\": {\n        \"dtype\": \"category\",\n        \"num_unique_values\": 7,\n        \"samples\": [\n          \"C\",\n          \"E\"\n        ],\n        \"semantic_type\": \"\",\n        \"description\": \"\"\n      }\n    },\n    {\n      \"column\": \"embark_town\",\n      \"properties\": {\n        \"dtype\": \"category\",\n        \"num_unique_values\": 3,\n        \"samples\": [\n          \"Southampton\",\n          \"Cherbourg\"\n        ],\n        \"semantic_type\": \"\",\n        \"description\": \"\"\n      }\n    },\n    {\n      \"column\": \"alive\",\n      \"properties\": {\n        \"dtype\": \"category\",\n        \"num_unique_values\": 2,\n        \"samples\": [\n          \"yes\",\n          \"no\"\n        ],\n        \"semantic_type\": \"\",\n        \"description\": \"\"\n      }\n    },\n    {\n      \"column\": \"alone\",\n      \"properties\": {\n        \"dtype\": \"boolean\",\n        \"num_unique_values\": 2,\n        \"samples\": [\n          true,\n          false\n        ],\n        \"semantic_type\": \"\",\n        \"description\": \"\"\n      }\n    }\n  ]\n}"
            }
          },
          "metadata": {},
          "execution_count": 56
        }
      ]
    },
    {
      "cell_type": "code",
      "source": [],
      "metadata": {
        "id": "URcuBjE8OlZZ"
      },
      "execution_count": null,
      "outputs": []
    }
  ]
}
